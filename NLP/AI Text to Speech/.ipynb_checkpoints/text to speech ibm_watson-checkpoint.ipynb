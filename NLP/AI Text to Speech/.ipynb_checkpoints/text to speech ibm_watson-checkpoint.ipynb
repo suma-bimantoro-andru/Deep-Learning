{
 "cells": [
  {
   "cell_type": "markdown",
   "id": "419e8906",
   "metadata": {},
   "source": [
    "## 0. install Dependencies"
   ]
  },
  {
   "cell_type": "code",
   "execution_count": 1,
   "id": "67d38f15",
   "metadata": {
    "collapsed": true
   },
   "outputs": [
    {
     "name": "stdout",
     "output_type": "stream",
     "text": [
      "Collecting ibm_watson\n",
      "  Downloading ibm-watson-6.1.0.tar.gz (373 kB)\n",
      "  Installing build dependencies: started\n",
      "  Installing build dependencies: finished with status 'done'\n",
      "  Getting requirements to build wheel: started\n",
      "  Getting requirements to build wheel: finished with status 'done'\n",
      "    Preparing wheel metadata: started\n",
      "    Preparing wheel metadata: finished with status 'done'\n",
      "Collecting websocket-client==1.1.0\n",
      "  Downloading websocket_client-1.1.0-py2.py3-none-any.whl (68 kB)\n",
      "Collecting ibm-cloud-sdk-core==3.*,>=3.3.6\n",
      "  Downloading ibm_cloud_sdk_core-3.16.0-py3-none-any.whl (83 kB)\n",
      "Requirement already satisfied: requests<3.0,>=2.0 in c:\\users\\sumaa\\anaconda3\\lib\\site-packages (from ibm_watson) (2.27.1)\n",
      "Requirement already satisfied: python-dateutil>=2.5.3 in c:\\users\\sumaa\\anaconda3\\lib\\site-packages (from ibm_watson) (2.8.2)\n",
      "Collecting PyJWT<3.0.0,>=2.4.0\n",
      "  Downloading PyJWT-2.6.0-py3-none-any.whl (20 kB)\n",
      "Requirement already satisfied: urllib3<2.0.0,>=1.26.0 in c:\\users\\sumaa\\anaconda3\\lib\\site-packages (from ibm-cloud-sdk-core==3.*,>=3.3.6->ibm_watson) (1.26.9)\n",
      "Requirement already satisfied: six>=1.5 in c:\\users\\sumaa\\anaconda3\\lib\\site-packages (from python-dateutil>=2.5.3->ibm_watson) (1.16.0)\n",
      "Requirement already satisfied: idna<4,>=2.5 in c:\\users\\sumaa\\anaconda3\\lib\\site-packages (from requests<3.0,>=2.0->ibm_watson) (3.3)\n",
      "Requirement already satisfied: certifi>=2017.4.17 in c:\\users\\sumaa\\anaconda3\\lib\\site-packages (from requests<3.0,>=2.0->ibm_watson) (2021.10.8)\n",
      "Requirement already satisfied: charset-normalizer~=2.0.0 in c:\\users\\sumaa\\anaconda3\\lib\\site-packages (from requests<3.0,>=2.0->ibm_watson) (2.0.4)\n",
      "Building wheels for collected packages: ibm-watson\n",
      "  Building wheel for ibm-watson (PEP 517): started\n",
      "  Building wheel for ibm-watson (PEP 517): finished with status 'done'\n",
      "  Created wheel for ibm-watson: filename=ibm_watson-6.1.0-py3-none-any.whl size=370808 sha256=6e1e942c051d6ccd2d98c3da8cc83be60c3f4a339d5abf35909457bc1c16771e\n",
      "  Stored in directory: c:\\users\\sumaa\\appdata\\local\\pip\\cache\\wheels\\bb\\d0\\34\\ff5df539c080e3a57abae75307fdc7ae057478b248a8900c3e\n",
      "Successfully built ibm-watson\n",
      "Installing collected packages: PyJWT, websocket-client, ibm-cloud-sdk-core, ibm-watson\n",
      "  Attempting uninstall: PyJWT\n",
      "    Found existing installation: PyJWT 2.1.0\n",
      "    Uninstalling PyJWT-2.1.0:\n",
      "      Successfully uninstalled PyJWT-2.1.0\n",
      "  Attempting uninstall: websocket-client\n",
      "    Found existing installation: websocket-client 0.58.0\n",
      "    Uninstalling websocket-client-0.58.0:\n",
      "      Successfully uninstalled websocket-client-0.58.0\n",
      "Successfully installed PyJWT-2.6.0 ibm-cloud-sdk-core-3.16.0 ibm-watson-6.1.0 websocket-client-1.1.0\n"
     ]
    },
    {
     "name": "stderr",
     "output_type": "stream",
     "text": [
      "ERROR: pip's dependency resolver does not currently take into account all the packages that are installed. This behaviour is the source of the following dependency conflicts.\n",
      "jupyter-server 1.13.5 requires pywinpty<2; os_name == \"nt\", but you have pywinpty 2.0.2 which is incompatible.\n"
     ]
    }
   ],
   "source": [
    "!pip install ibm_watson"
   ]
  },
  {
   "cell_type": "markdown",
   "id": "c8120c55",
   "metadata": {},
   "source": [
    "## 1. Authenticate"
   ]
  },
  {
   "cell_type": "code",
   "execution_count": 2,
   "id": "439a032b",
   "metadata": {},
   "outputs": [],
   "source": [
    "url=''\n",
    "apikey=''"
   ]
  },
  {
   "cell_type": "code",
   "execution_count": 3,
   "id": "e9337193",
   "metadata": {
    "collapsed": true
   },
   "outputs": [
    {
     "ename": "ImportError",
     "evalue": "cannot import name 'TexttospeechV1' from 'ibm_watson' (C:\\Users\\sumaa\\anaconda3\\lib\\site-packages\\ibm_watson\\__init__.py)",
     "output_type": "error",
     "traceback": [
      "\u001b[1;31m---------------------------------------------------------------------------\u001b[0m",
      "\u001b[1;31mImportError\u001b[0m                               Traceback (most recent call last)",
      "Input \u001b[1;32mIn [3]\u001b[0m, in \u001b[0;36m<cell line: 1>\u001b[1;34m()\u001b[0m\n\u001b[1;32m----> 1\u001b[0m \u001b[38;5;28;01mfrom\u001b[39;00m \u001b[38;5;21;01mibm_watson\u001b[39;00m \u001b[38;5;28;01mimport\u001b[39;00m TexttospeechV1\n",
      "\u001b[1;31mImportError\u001b[0m: cannot import name 'TexttospeechV1' from 'ibm_watson' (C:\\Users\\sumaa\\anaconda3\\lib\\site-packages\\ibm_watson\\__init__.py)"
     ]
    }
   ],
   "source": [
    "from ibm_watson import TextToSpeechV1\n",
    "from ibm_cloud_sdk_core.authenticators import IAMAuthenticator"
   ]
  },
  {
   "cell_type": "code",
   "execution_count": null,
   "id": "92ebe2b9",
   "metadata": {},
   "outputs": [],
   "source": [
    "apikey = 'YOUR API KEY'\n",
    "url = 'YOUR SERVICE URL'"
   ]
  },
  {
   "cell_type": "code",
   "execution_count": null,
   "id": "71649606",
   "metadata": {},
   "outputs": [],
   "source": [
    "# Setup Service\n",
    "authenticator = IAMAuthenticator(apikey)\n",
    "tts = TextToSpeechV1(authenticator=authenticator)\n",
    "tts.set_service_url(url)"
   ]
  },
  {
   "cell_type": "markdown",
   "id": "deee65eb",
   "metadata": {},
   "source": [
    "## 2. Convert a String"
   ]
  },
  {
   "cell_type": "code",
   "execution_count": null,
   "id": "feb0e909",
   "metadata": {},
   "outputs": [],
   "source": [
    "with open('./speech.mp3', 'wb') as audio_file:\n",
    "    res = tts.synthesize('Hello World!', accept='audio/mp3', voice='en-US_AllisonV3Voice').get_result()\n",
    "    audio_file.write(res.content)"
   ]
  },
  {
   "cell_type": "markdown",
   "id": "33f5b0a7",
   "metadata": {},
   "source": [
    "## 3. Reading from a File"
   ]
  },
  {
   "cell_type": "code",
   "execution_count": null,
   "id": "e52c6025",
   "metadata": {},
   "outputs": [],
   "source": [
    "with open('churchill.txt', 'r') as f:\n",
    "    text = f.readlines()"
   ]
  },
  {
   "cell_type": "code",
   "execution_count": null,
   "id": "3b0ad63b",
   "metadata": {},
   "outputs": [],
   "source": [
    "text = [line.replace('\\n','') for line in text]"
   ]
  },
  {
   "cell_type": "code",
   "execution_count": null,
   "id": "9a2374e7",
   "metadata": {},
   "outputs": [],
   "source": [
    "text = ''.join(str(line) for line in text)"
   ]
  },
  {
   "cell_type": "code",
   "execution_count": null,
   "id": "ce605879",
   "metadata": {},
   "outputs": [],
   "source": [
    "with open('./winston.mp3', 'wb') as audio_file:\n",
    "    res = tts.synthesize(text, accept='audio/mp3', voice='en-GB_JamesV3Voice').get_result()\n",
    "    audio_file.write(res.content)"
   ]
  },
  {
   "cell_type": "markdown",
   "id": "eed3b7bb",
   "metadata": {},
   "source": [
    "## 4. Using New Language Models"
   ]
  },
  {
   "cell_type": "code",
   "execution_count": null,
   "id": "a4a7929a",
   "metadata": {},
   "outputs": [],
   "source": [
    "\n",
    "import json\n",
    "voices = tts.list_voices().get_result()\n",
    "print(json.dumps(voices, indent=2))"
   ]
  },
  {
   "cell_type": "code",
   "execution_count": null,
   "id": "2413a9b5",
   "metadata": {},
   "outputs": [],
   "source": [
    "# Frere Jacque\n",
    "frere = \"\"\"Frère Jacques\n",
    "    Frère Jacques\n",
    "    Dormez-vous?\n",
    "    Dormez-vous?\n",
    "    Sonnez les matines\n",
    "    Sonnez les matines\n",
    "    Ding, ding, dong\n",
    "    Ding, ding, dong\n",
    "    Frère Jacques\n",
    "    Frère Jacques\n",
    "    Dormez-vous?\n",
    "    Dormez-vous?\n",
    "    Sonnez les matines\n",
    "    Sonnez les matines\n",
    "    Ding, ding, dong\n",
    "    Ding, ding, dong\n",
    "    Ding, ding, dong\n",
    "    Ding, ding, dong\"\"\""
   ]
  },
  {
   "cell_type": "code",
   "execution_count": null,
   "id": "76ac142a",
   "metadata": {},
   "outputs": [],
   "source": [
    "with open('./frere.mp3', 'wb') as audio_file:\n",
    "    res = tts.synthesize(frere, accept='audio/mp3', voice='fr-FR_ReneeV3Voice').get_result()\n",
    "    audio_file.write(res.content)"
   ]
  }
 ],
 "metadata": {
  "kernelspec": {
   "display_name": "Python 3 (ipykernel)",
   "language": "python",
   "name": "python3"
  },
  "language_info": {
   "codemirror_mode": {
    "name": "ipython",
    "version": 3
   },
   "file_extension": ".py",
   "mimetype": "text/x-python",
   "name": "python",
   "nbconvert_exporter": "python",
   "pygments_lexer": "ipython3",
   "version": "3.9.12"
  }
 },
 "nbformat": 4,
 "nbformat_minor": 5
}
