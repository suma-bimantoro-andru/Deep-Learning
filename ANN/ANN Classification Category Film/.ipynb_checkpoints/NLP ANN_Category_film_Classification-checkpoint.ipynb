{
 "cells": [
  {
   "cell_type": "markdown",
   "id": "2a09f9f1",
   "metadata": {
    "id": "2a09f9f1"
   },
   "source": [
    "## Name"
   ]
  },
  {
   "cell_type": "markdown",
   "id": "eebe2c39",
   "metadata": {
    "id": "eebe2c39"
   },
   "source": [
    "- Name = Suma Bimantoro Andru\n",
    "- Job = Data Science\n",
    "- Objective = NLP ANN, Clasification Category"
   ]
  },
  {
   "cell_type": "markdown",
   "id": "e42643bf",
   "metadata": {
    "id": "e42643bf"
   },
   "source": [
    "## Import Libraries"
   ]
  },
  {
   "cell_type": "code",
   "execution_count": 120,
   "id": "d2891187",
   "metadata": {
    "colab": {
     "base_uri": "https://localhost:8080/"
    },
    "id": "d2891187",
    "outputId": "8e1a81f0-6130-4523-e8f7-8a854df0bd9e"
   },
   "outputs": [
    {
     "name": "stdout",
     "output_type": "stream",
     "text": [
      "Requirement already satisfied: contractions in c:\\users\\sumaa\\anaconda3\\lib\\site-packages (0.1.73)\n",
      "Requirement already satisfied: textsearch>=0.0.21 in c:\\users\\sumaa\\anaconda3\\lib\\site-packages (from contractions) (0.0.24)\n",
      "Requirement already satisfied: pyahocorasick in c:\\users\\sumaa\\anaconda3\\lib\\site-packages (from textsearch>=0.0.21->contractions) (1.4.4)\n",
      "Requirement already satisfied: anyascii in c:\\users\\sumaa\\anaconda3\\lib\\site-packages (from textsearch>=0.0.21->contractions) (0.3.1)\n"
     ]
    }
   ],
   "source": [
    "!pip install contractions"
   ]
  },
  {
   "cell_type": "code",
   "execution_count": 121,
   "id": "fe7716f5",
   "metadata": {
    "colab": {
     "base_uri": "https://localhost:8080/"
    },
    "id": "fe7716f5",
    "outputId": "2c0f57b7-6ec6-448c-9e16-321dceed4296"
   },
   "outputs": [
    {
     "name": "stderr",
     "output_type": "stream",
     "text": [
      "[nltk_data] Downloading package punkt to\n",
      "[nltk_data]     C:\\Users\\sumaa\\AppData\\Roaming\\nltk_data...\n",
      "[nltk_data]   Package punkt is already up-to-date!\n",
      "[nltk_data] Downloading package stopwords to\n",
      "[nltk_data]     C:\\Users\\sumaa\\AppData\\Roaming\\nltk_data...\n",
      "[nltk_data]   Package stopwords is already up-to-date!\n",
      "[nltk_data] Downloading package wordnet to\n",
      "[nltk_data]     C:\\Users\\sumaa\\AppData\\Roaming\\nltk_data...\n",
      "[nltk_data]   Package wordnet is already up-to-date!\n",
      "[nltk_data] Downloading package omw-1.4 to\n",
      "[nltk_data]     C:\\Users\\sumaa\\AppData\\Roaming\\nltk_data...\n",
      "[nltk_data]   Package omw-1.4 is already up-to-date!\n"
     ]
    }
   ],
   "source": [
    "# Import Libraries\n",
    "\n",
    "import pandas as pd\n",
    "import numpy as np\n",
    "import matplotlib.pyplot as plt\n",
    "import seaborn as sns\n",
    "from matplotlib.pyplot import figure\n",
    "\n",
    "import warnings\n",
    "warnings.filterwarnings('ignore')\n",
    "\n",
    "import re\n",
    "import string\n",
    "import string\n",
    "import nltk\n",
    "nltk.download('punkt')\n",
    "nltk.download('stopwords')\n",
    "nltk.download('wordnet')\n",
    "nltk.download('omw-1.4')\n",
    "from nltk import tokenize\n",
    "from nltk.tokenize import word_tokenize\n",
    "from nltk.corpus import stopwords\n",
    "from nltk.stem import WordNetLemmatizer\n",
    "import contractions\n",
    "\n",
    "\n",
    "from wordcloud import WordCloud, STOPWORDS, ImageColorGenerator\n",
    "from sklearn.model_selection import train_test_split\n",
    "from sklearn.pipeline import Pipeline, make_pipeline\n",
    "from sklearn.compose import ColumnTransformer\n",
    "from sklearn.impute import SimpleImputer\n",
    "from sklearn.preprocessing import StandardScaler, OneHotEncoder\n",
    "import matplotlib.pyplot as plt\n",
    "import seaborn as sns\n",
    "from sklearn.preprocessing import MinMaxScaler, StandardScaler,OrdinalEncoder\n",
    "from tensorflow.keras.models import Sequential\n",
    "from tensorflow.keras.layers import Dense\n",
    "from sklearn import preprocessing\n",
    "import plotly.express as px\n",
    "from tensorflow.keras.models import Sequential\n",
    "from tensorflow.keras.layers import Dense\n",
    "from tensorflow.keras.layers import Input\n",
    "from tensorflow.keras import Model \n",
    "import tensorflow as tf\n",
    "from tensorflow import keras\n",
    "import pickle\n",
    "import requests\n",
    "import json\n",
    "import requests\n",
    "import tensorflow as tf\n",
    "from sklearn.feature_extraction.text import CountVectorizer, TfidfVectorizer\n",
    "from tensorflow.keras.layers import TextVectorization, Embedding\n",
    "from sklearn.model_selection import train_test_split\n",
    "from sklearn.preprocessing import LabelEncoder\n",
    "from sklearn.metrics import accuracy_score,precision_score,recall_score,confusion_matrix,roc_curve,classification_report\n",
    "from tensorflow.keras.models import Sequential\n",
    "from tensorflow.keras.layers import Dense\n",
    "from tensorflow.keras.layers import Input\n",
    "from tensorflow.keras.layers import BatchNormalization\n",
    "from tensorflow.keras.layers import Dropout\n",
    "from tensorflow.keras import Model\n",
    "from tensorflow.keras.callbacks import EarlyStopping\n",
    "from tensorflow.keras.optimizers import Adam\n",
    "from tensorflow.keras.optimizers import Nadam\n",
    "from tensorflow.keras.metrics import Recall\n",
    "from tensorflow.keras.layers import Dense, GlobalAveragePooling1D, Input, LSTM, GRU, Dropout\n",
    "from tensorflow.keras.models import Model, Sequential"
   ]
  },
  {
   "cell_type": "markdown",
   "id": "86bf6b64",
   "metadata": {
    "id": "86bf6b64"
   },
   "source": [
    "## Data Loading"
   ]
  },
  {
   "cell_type": "code",
   "execution_count": 122,
   "id": "fd8e258e",
   "metadata": {
    "id": "fd8e258e"
   },
   "outputs": [],
   "source": [
    "df = pd.read_json('data.json')"
   ]
  },
  {
   "cell_type": "code",
   "execution_count": 123,
   "id": "82777ce5",
   "metadata": {
    "colab": {
     "base_uri": "https://localhost:8080/",
     "height": 814
    },
    "id": "82777ce5",
    "outputId": "ce5dbec3-d89c-4e56-c057-598846b76e0e"
   },
   "outputs": [
    {
     "data": {
      "text/html": [
       "<div>\n",
       "<style scoped>\n",
       "    .dataframe tbody tr th:only-of-type {\n",
       "        vertical-align: middle;\n",
       "    }\n",
       "\n",
       "    .dataframe tbody tr th {\n",
       "        vertical-align: top;\n",
       "    }\n",
       "\n",
       "    .dataframe thead th {\n",
       "        text-align: right;\n",
       "    }\n",
       "</style>\n",
       "<table border=\"1\" class=\"dataframe\">\n",
       "  <thead>\n",
       "    <tr style=\"text-align: right;\">\n",
       "      <th></th>\n",
       "      <th>content_id</th>\n",
       "      <th>category</th>\n",
       "      <th>headline</th>\n",
       "      <th>authors</th>\n",
       "      <th>link</th>\n",
       "      <th>short_description</th>\n",
       "      <th>date</th>\n",
       "    </tr>\n",
       "  </thead>\n",
       "  <tbody>\n",
       "    <tr>\n",
       "      <th>0</th>\n",
       "      <td>1</td>\n",
       "      <td>CRIME</td>\n",
       "      <td>There Were 2 Mass Shootings In Texas Last Week...</td>\n",
       "      <td>Melissa Jeltsen</td>\n",
       "      <td>https://www.huffingtonpost.com/entry/texas-ama...</td>\n",
       "      <td>She left her husband. He killed their children...</td>\n",
       "      <td>2018-05-26</td>\n",
       "    </tr>\n",
       "    <tr>\n",
       "      <th>1</th>\n",
       "      <td>2</td>\n",
       "      <td>ENTERTAINMENT</td>\n",
       "      <td>Will Smith Joins Diplo And Nicky Jam For The 2...</td>\n",
       "      <td>Andy McDonald</td>\n",
       "      <td>https://www.huffingtonpost.com/entry/will-smit...</td>\n",
       "      <td>Of course it has a song.</td>\n",
       "      <td>2018-05-26</td>\n",
       "    </tr>\n",
       "    <tr>\n",
       "      <th>2</th>\n",
       "      <td>3</td>\n",
       "      <td>ENTERTAINMENT</td>\n",
       "      <td>Hugh Grant Marries For The First Time At Age 57</td>\n",
       "      <td>Ron Dicker</td>\n",
       "      <td>https://www.huffingtonpost.com/entry/hugh-gran...</td>\n",
       "      <td>The actor and his longtime girlfriend Anna Ebe...</td>\n",
       "      <td>2018-05-26</td>\n",
       "    </tr>\n",
       "    <tr>\n",
       "      <th>3</th>\n",
       "      <td>4</td>\n",
       "      <td>ENTERTAINMENT</td>\n",
       "      <td>Jim Carrey Blasts 'Castrato' Adam Schiff And D...</td>\n",
       "      <td>Ron Dicker</td>\n",
       "      <td>https://www.huffingtonpost.com/entry/jim-carre...</td>\n",
       "      <td>The actor gives Dems an ass-kicking for not fi...</td>\n",
       "      <td>2018-05-26</td>\n",
       "    </tr>\n",
       "    <tr>\n",
       "      <th>4</th>\n",
       "      <td>5</td>\n",
       "      <td>ENTERTAINMENT</td>\n",
       "      <td>Julianna Margulies Uses Donald Trump Poop Bags...</td>\n",
       "      <td>Ron Dicker</td>\n",
       "      <td>https://www.huffingtonpost.com/entry/julianna-...</td>\n",
       "      <td>The \"Dietland\" actress said using the bags is ...</td>\n",
       "      <td>2018-05-26</td>\n",
       "    </tr>\n",
       "    <tr>\n",
       "      <th>...</th>\n",
       "      <td>...</td>\n",
       "      <td>...</td>\n",
       "      <td>...</td>\n",
       "      <td>...</td>\n",
       "      <td>...</td>\n",
       "      <td>...</td>\n",
       "      <td>...</td>\n",
       "    </tr>\n",
       "    <tr>\n",
       "      <th>96</th>\n",
       "      <td>97</td>\n",
       "      <td>POLITICS</td>\n",
       "      <td>Senate Advances Court Pick Who Said Planned Pa...</td>\n",
       "      <td>Jennifer Bendery</td>\n",
       "      <td>https://www.huffingtonpost.com/entry/wendy-vit...</td>\n",
       "      <td>Every Republican on the judiciary committee vo...</td>\n",
       "      <td>2018-05-24</td>\n",
       "    </tr>\n",
       "    <tr>\n",
       "      <th>97</th>\n",
       "      <td>98</td>\n",
       "      <td>POLITICS</td>\n",
       "      <td>Rudy Giuliani: Trump Won't Interview With Muel...</td>\n",
       "      <td>S.V. Date</td>\n",
       "      <td>https://www.huffingtonpost.com/entry/trump-giu...</td>\n",
       "      <td>The canceled North Korea summit doesn’t mean t...</td>\n",
       "      <td>2018-05-24</td>\n",
       "    </tr>\n",
       "    <tr>\n",
       "      <th>98</th>\n",
       "      <td>99</td>\n",
       "      <td>POLITICS</td>\n",
       "      <td>Kentucky Attorney Running For Judge Dies 1 Day...</td>\n",
       "      <td>Nina Golgowski</td>\n",
       "      <td>https://www.huffingtonpost.com/entry/judge-can...</td>\n",
       "      <td>Danny Alvarez, a married of father of three, w...</td>\n",
       "      <td>2018-05-24</td>\n",
       "    </tr>\n",
       "    <tr>\n",
       "      <th>99</th>\n",
       "      <td>100</td>\n",
       "      <td>POLITICS</td>\n",
       "      <td>Chrissy Teigen Taunts Donald Trump Over Twitte...</td>\n",
       "      <td>Lee Moran</td>\n",
       "      <td>https://www.huffingtonpost.com/entry/chrissy-t...</td>\n",
       "      <td>Other tweeters, including Mexico's former pres...</td>\n",
       "      <td>2018-05-24</td>\n",
       "    </tr>\n",
       "    <tr>\n",
       "      <th>100</th>\n",
       "      <td>101</td>\n",
       "      <td>POLITICS</td>\n",
       "      <td>The Koch Network Is Going After One Of Trump’s...</td>\n",
       "      <td>Kevin Robillard</td>\n",
       "      <td>https://www.huffingtonpost.com/entry/koch-brot...</td>\n",
       "      <td>The billionaire Koch brothers’ political netwo...</td>\n",
       "      <td>2018-05-24</td>\n",
       "    </tr>\n",
       "  </tbody>\n",
       "</table>\n",
       "<p>101 rows × 7 columns</p>\n",
       "</div>"
      ],
      "text/plain": [
       "     content_id       category  \\\n",
       "0             1          CRIME   \n",
       "1             2  ENTERTAINMENT   \n",
       "2             3  ENTERTAINMENT   \n",
       "3             4  ENTERTAINMENT   \n",
       "4             5  ENTERTAINMENT   \n",
       "..          ...            ...   \n",
       "96           97       POLITICS   \n",
       "97           98       POLITICS   \n",
       "98           99       POLITICS   \n",
       "99          100       POLITICS   \n",
       "100         101       POLITICS   \n",
       "\n",
       "                                              headline           authors  \\\n",
       "0    There Were 2 Mass Shootings In Texas Last Week...   Melissa Jeltsen   \n",
       "1    Will Smith Joins Diplo And Nicky Jam For The 2...     Andy McDonald   \n",
       "2      Hugh Grant Marries For The First Time At Age 57        Ron Dicker   \n",
       "3    Jim Carrey Blasts 'Castrato' Adam Schiff And D...        Ron Dicker   \n",
       "4    Julianna Margulies Uses Donald Trump Poop Bags...        Ron Dicker   \n",
       "..                                                 ...               ...   \n",
       "96   Senate Advances Court Pick Who Said Planned Pa...  Jennifer Bendery   \n",
       "97   Rudy Giuliani: Trump Won't Interview With Muel...         S.V. Date   \n",
       "98   Kentucky Attorney Running For Judge Dies 1 Day...    Nina Golgowski   \n",
       "99   Chrissy Teigen Taunts Donald Trump Over Twitte...         Lee Moran   \n",
       "100  The Koch Network Is Going After One Of Trump’s...   Kevin Robillard   \n",
       "\n",
       "                                                  link  \\\n",
       "0    https://www.huffingtonpost.com/entry/texas-ama...   \n",
       "1    https://www.huffingtonpost.com/entry/will-smit...   \n",
       "2    https://www.huffingtonpost.com/entry/hugh-gran...   \n",
       "3    https://www.huffingtonpost.com/entry/jim-carre...   \n",
       "4    https://www.huffingtonpost.com/entry/julianna-...   \n",
       "..                                                 ...   \n",
       "96   https://www.huffingtonpost.com/entry/wendy-vit...   \n",
       "97   https://www.huffingtonpost.com/entry/trump-giu...   \n",
       "98   https://www.huffingtonpost.com/entry/judge-can...   \n",
       "99   https://www.huffingtonpost.com/entry/chrissy-t...   \n",
       "100  https://www.huffingtonpost.com/entry/koch-brot...   \n",
       "\n",
       "                                     short_description       date  \n",
       "0    She left her husband. He killed their children... 2018-05-26  \n",
       "1                             Of course it has a song. 2018-05-26  \n",
       "2    The actor and his longtime girlfriend Anna Ebe... 2018-05-26  \n",
       "3    The actor gives Dems an ass-kicking for not fi... 2018-05-26  \n",
       "4    The \"Dietland\" actress said using the bags is ... 2018-05-26  \n",
       "..                                                 ...        ...  \n",
       "96   Every Republican on the judiciary committee vo... 2018-05-24  \n",
       "97   The canceled North Korea summit doesn’t mean t... 2018-05-24  \n",
       "98   Danny Alvarez, a married of father of three, w... 2018-05-24  \n",
       "99   Other tweeters, including Mexico's former pres... 2018-05-24  \n",
       "100  The billionaire Koch brothers’ political netwo... 2018-05-24  \n",
       "\n",
       "[101 rows x 7 columns]"
      ]
     },
     "execution_count": 123,
     "metadata": {},
     "output_type": "execute_result"
    }
   ],
   "source": [
    "df"
   ]
  },
  {
   "cell_type": "code",
   "execution_count": 124,
   "id": "cbfde543",
   "metadata": {
    "colab": {
     "base_uri": "https://localhost:8080/"
    },
    "id": "cbfde543",
    "outputId": "e9233a2b-382b-40c7-8712-a69d0365d5f2",
    "scrolled": true
   },
   "outputs": [
    {
     "name": "stdout",
     "output_type": "stream",
     "text": [
      "<class 'pandas.core.frame.DataFrame'>\n",
      "RangeIndex: 101 entries, 0 to 100\n",
      "Data columns (total 7 columns):\n",
      " #   Column             Non-Null Count  Dtype         \n",
      "---  ------             --------------  -----         \n",
      " 0   content_id         101 non-null    int64         \n",
      " 1   category           101 non-null    object        \n",
      " 2   headline           101 non-null    object        \n",
      " 3   authors            101 non-null    object        \n",
      " 4   link               101 non-null    object        \n",
      " 5   short_description  101 non-null    object        \n",
      " 6   date               101 non-null    datetime64[ns]\n",
      "dtypes: datetime64[ns](1), int64(1), object(5)\n",
      "memory usage: 5.6+ KB\n"
     ]
    }
   ],
   "source": [
    "# Check dataset -1\n",
    "df.info()"
   ]
  },
  {
   "cell_type": "code",
   "execution_count": 125,
   "id": "2aaaab5c",
   "metadata": {
    "colab": {
     "base_uri": "https://localhost:8080/",
     "height": 300
    },
    "id": "2aaaab5c",
    "outputId": "d4a83b8e-a5e3-4967-8e77-1b3fa287fb46"
   },
   "outputs": [
    {
     "data": {
      "text/html": [
       "<div>\n",
       "<style scoped>\n",
       "    .dataframe tbody tr th:only-of-type {\n",
       "        vertical-align: middle;\n",
       "    }\n",
       "\n",
       "    .dataframe tbody tr th {\n",
       "        vertical-align: top;\n",
       "    }\n",
       "\n",
       "    .dataframe thead th {\n",
       "        text-align: right;\n",
       "    }\n",
       "</style>\n",
       "<table border=\"1\" class=\"dataframe\">\n",
       "  <thead>\n",
       "    <tr style=\"text-align: right;\">\n",
       "      <th></th>\n",
       "      <th>content_id</th>\n",
       "    </tr>\n",
       "  </thead>\n",
       "  <tbody>\n",
       "    <tr>\n",
       "      <th>count</th>\n",
       "      <td>101.000000</td>\n",
       "    </tr>\n",
       "    <tr>\n",
       "      <th>mean</th>\n",
       "      <td>51.000000</td>\n",
       "    </tr>\n",
       "    <tr>\n",
       "      <th>std</th>\n",
       "      <td>29.300171</td>\n",
       "    </tr>\n",
       "    <tr>\n",
       "      <th>min</th>\n",
       "      <td>1.000000</td>\n",
       "    </tr>\n",
       "    <tr>\n",
       "      <th>25%</th>\n",
       "      <td>26.000000</td>\n",
       "    </tr>\n",
       "    <tr>\n",
       "      <th>50%</th>\n",
       "      <td>51.000000</td>\n",
       "    </tr>\n",
       "    <tr>\n",
       "      <th>75%</th>\n",
       "      <td>76.000000</td>\n",
       "    </tr>\n",
       "    <tr>\n",
       "      <th>max</th>\n",
       "      <td>101.000000</td>\n",
       "    </tr>\n",
       "  </tbody>\n",
       "</table>\n",
       "</div>"
      ],
      "text/plain": [
       "       content_id\n",
       "count  101.000000\n",
       "mean    51.000000\n",
       "std     29.300171\n",
       "min      1.000000\n",
       "25%     26.000000\n",
       "50%     51.000000\n",
       "75%     76.000000\n",
       "max    101.000000"
      ]
     },
     "execution_count": 125,
     "metadata": {},
     "output_type": "execute_result"
    }
   ],
   "source": [
    "# Check dataset -2\n",
    "df.describe()"
   ]
  },
  {
   "cell_type": "markdown",
   "id": "381eb255",
   "metadata": {
    "id": "381eb255"
   },
   "source": [
    "## EDA (Exploratory Data Analysis)"
   ]
  },
  {
   "cell_type": "code",
   "execution_count": 126,
   "id": "ddbec5e7",
   "metadata": {
    "colab": {
     "base_uri": "https://localhost:8080/",
     "height": 741
    },
    "id": "ddbec5e7",
    "outputId": "51752f62-76f0-4b96-d733-55d73e109185"
   },
   "outputs": [
    {
     "name": "stdout",
     "output_type": "stream",
     "text": [
      "1      1\n",
      "65     1\n",
      "75     1\n",
      "74     1\n",
      "73     1\n",
      "      ..\n",
      "32     1\n",
      "31     1\n",
      "30     1\n",
      "29     1\n",
      "101    1\n",
      "Name: content_id, Length: 101, dtype: int64\n",
      "\n"
     ]
    },
    {
     "data": {
      "image/png": "[encoded data removed]",
      "text/plain": [
       "<Figure size 720x576 with 1 Axes>"
      ]
     },
     "metadata": {
      "needs_background": "light"
     },
     "output_type": "display_data"
    }
   ],
   "source": [
    "\n",
    "# See the frequency of ratings\n",
    "\n",
    "print(df['content_id'].value_counts())\n",
    "print('')\n",
    "\n",
    "figure(figsize=(10, 8))\n",
    "sns.countplot(data=df, x='content_id', palette='flare').set_title('Rating Distribution Across Dataset')\n",
    "plt.title('Frequency of Ratings', weight='bold', fontsize=15)\n",
    "plt.xlabel('')\n",
    "plt.show()"
   ]
  },
  {
   "cell_type": "code",
   "execution_count": 127,
   "id": "6dcdfaf6",
   "metadata": {
    "colab": {
     "base_uri": "https://localhost:8080/",
     "height": 756
    },
    "id": "6dcdfaf6",
    "outputId": "52af7208-de04-46dc-8a00-7e1f7d415420"
   },
   "outputs": [
    {
     "data": {
      "text/html": [
       "<div>\n",
       "<style scoped>\n",
       "    .dataframe tbody tr th:only-of-type {\n",
       "        vertical-align: middle;\n",
       "    }\n",
       "\n",
       "    .dataframe tbody tr th {\n",
       "        vertical-align: top;\n",
       "    }\n",
       "\n",
       "    .dataframe thead th {\n",
       "        text-align: right;\n",
       "    }\n",
       "</style>\n",
       "<table border=\"1\" class=\"dataframe\">\n",
       "  <thead>\n",
       "    <tr style=\"text-align: right;\">\n",
       "      <th></th>\n",
       "      <th>content_id</th>\n",
       "      <th>category</th>\n",
       "      <th>headline</th>\n",
       "      <th>authors</th>\n",
       "      <th>link</th>\n",
       "      <th>short_description</th>\n",
       "      <th>date</th>\n",
       "      <th>Length_headline</th>\n",
       "      <th>Length_authors</th>\n",
       "      <th>Length_link</th>\n",
       "      <th>Length_short_description</th>\n",
       "    </tr>\n",
       "  </thead>\n",
       "  <tbody>\n",
       "    <tr>\n",
       "      <th>0</th>\n",
       "      <td>1</td>\n",
       "      <td>CRIME</td>\n",
       "      <td>There Were 2 Mass Shootings In Texas Last Week...</td>\n",
       "      <td>Melissa Jeltsen</td>\n",
       "      <td>https://www.huffingtonpost.com/entry/texas-ama...</td>\n",
       "      <td>She left her husband. He killed their children...</td>\n",
       "      <td>2018-05-26</td>\n",
       "      <td>64</td>\n",
       "      <td>15</td>\n",
       "      <td>99</td>\n",
       "      <td>76</td>\n",
       "    </tr>\n",
       "    <tr>\n",
       "      <th>1</th>\n",
       "      <td>2</td>\n",
       "      <td>ENTERTAINMENT</td>\n",
       "      <td>Will Smith Joins Diplo And Nicky Jam For The 2...</td>\n",
       "      <td>Andy McDonald</td>\n",
       "      <td>https://www.huffingtonpost.com/entry/will-smit...</td>\n",
       "      <td>Of course it has a song.</td>\n",
       "      <td>2018-05-26</td>\n",
       "      <td>75</td>\n",
       "      <td>13</td>\n",
       "      <td>138</td>\n",
       "      <td>24</td>\n",
       "    </tr>\n",
       "    <tr>\n",
       "      <th>2</th>\n",
       "      <td>3</td>\n",
       "      <td>ENTERTAINMENT</td>\n",
       "      <td>Hugh Grant Marries For The First Time At Age 57</td>\n",
       "      <td>Ron Dicker</td>\n",
       "      <td>https://www.huffingtonpost.com/entry/hugh-gran...</td>\n",
       "      <td>The actor and his longtime girlfriend Anna Ebe...</td>\n",
       "      <td>2018-05-26</td>\n",
       "      <td>47</td>\n",
       "      <td>10</td>\n",
       "      <td>83</td>\n",
       "      <td>87</td>\n",
       "    </tr>\n",
       "    <tr>\n",
       "      <th>3</th>\n",
       "      <td>4</td>\n",
       "      <td>ENTERTAINMENT</td>\n",
       "      <td>Jim Carrey Blasts 'Castrato' Adam Schiff And D...</td>\n",
       "      <td>Ron Dicker</td>\n",
       "      <td>https://www.huffingtonpost.com/entry/jim-carre...</td>\n",
       "      <td>The actor gives Dems an ass-kicking for not fi...</td>\n",
       "      <td>2018-05-26</td>\n",
       "      <td>69</td>\n",
       "      <td>10</td>\n",
       "      <td>97</td>\n",
       "      <td>86</td>\n",
       "    </tr>\n",
       "    <tr>\n",
       "      <th>4</th>\n",
       "      <td>5</td>\n",
       "      <td>ENTERTAINMENT</td>\n",
       "      <td>Julianna Margulies Uses Donald Trump Poop Bags...</td>\n",
       "      <td>Ron Dicker</td>\n",
       "      <td>https://www.huffingtonpost.com/entry/julianna-...</td>\n",
       "      <td>The \"Dietland\" actress said using the bags is ...</td>\n",
       "      <td>2018-05-26</td>\n",
       "      <td>71</td>\n",
       "      <td>10</td>\n",
       "      <td>98</td>\n",
       "      <td>87</td>\n",
       "    </tr>\n",
       "  </tbody>\n",
       "</table>\n",
       "</div>"
      ],
      "text/plain": [
       "   content_id       category  \\\n",
       "0           1          CRIME   \n",
       "1           2  ENTERTAINMENT   \n",
       "2           3  ENTERTAINMENT   \n",
       "3           4  ENTERTAINMENT   \n",
       "4           5  ENTERTAINMENT   \n",
       "\n",
       "                                            headline          authors  \\\n",
       "0  There Were 2 Mass Shootings In Texas Last Week...  Melissa Jeltsen   \n",
       "1  Will Smith Joins Diplo And Nicky Jam For The 2...    Andy McDonald   \n",
       "2    Hugh Grant Marries For The First Time At Age 57       Ron Dicker   \n",
       "3  Jim Carrey Blasts 'Castrato' Adam Schiff And D...       Ron Dicker   \n",
       "4  Julianna Margulies Uses Donald Trump Poop Bags...       Ron Dicker   \n",
       "\n",
       "                                                link  \\\n",
       "0  https://www.huffingtonpost.com/entry/texas-ama...   \n",
       "1  https://www.huffingtonpost.com/entry/will-smit...   \n",
       "2  https://www.huffingtonpost.com/entry/hugh-gran...   \n",
       "3  https://www.huffingtonpost.com/entry/jim-carre...   \n",
       "4  https://www.huffingtonpost.com/entry/julianna-...   \n",
       "\n",
       "                                   short_description       date  \\\n",
       "0  She left her husband. He killed their children... 2018-05-26   \n",
       "1                           Of course it has a song. 2018-05-26   \n",
       "2  The actor and his longtime girlfriend Anna Ebe... 2018-05-26   \n",
       "3  The actor gives Dems an ass-kicking for not fi... 2018-05-26   \n",
       "4  The \"Dietland\" actress said using the bags is ... 2018-05-26   \n",
       "\n",
       "   Length_headline  Length_authors  Length_link  Length_short_description  \n",
       "0               64              15           99                        76  \n",
       "1               75              13          138                        24  \n",
       "2               47              10           83                        87  \n",
       "3               69              10           97                        86  \n",
       "4               71              10           98                        87  "
      ]
     },
     "execution_count": 127,
     "metadata": {},
     "output_type": "execute_result"
    }
   ],
   "source": [
    "# Length of word in sentence\n",
    "\n",
    "df['Length_headline'] = df['headline'].apply(len)\n",
    "df['Length_authors'] = df['authors'].apply(len)\n",
    "df['Length_link'] = df['link'].apply(len)\n",
    "df['Length_short_description'] = df['short_description'].apply(len)\n",
    "df.head()"
   ]
  },
  {
   "cell_type": "code",
   "execution_count": 128,
   "id": "620436d9",
   "metadata": {
    "colab": {
     "base_uri": "https://localhost:8080/",
     "height": 283
    },
    "id": "620436d9",
    "outputId": "595ab739-904b-4548-daf5-50e142805bdb"
   },
   "outputs": [
    {
     "data": {
      "text/plain": [
       "<seaborn.axisgrid.FacetGrid at 0x232e2ba3a60>"
      ]
     },
     "execution_count": 128,
     "metadata": {},
     "output_type": "execute_result"
    },
    {
     "data": {
      "image/png": "[encoded data removed]",
      "text/plain": [
       "<Figure size 1559x360 with 1 Axes>"
      ]
     },
     "metadata": {
      "needs_background": "light"
     },
     "output_type": "display_data"
    }
   ],
   "source": [
    "sns.displot(data=df, x='Length_headline', hue='category', palette='flare', kind='kde', fill=True, aspect=4)"
   ]
  },
  {
   "cell_type": "code",
   "execution_count": 129,
   "id": "c1ab10ce",
   "metadata": {
    "colab": {
     "base_uri": "https://localhost:8080/",
     "height": 742
    },
    "id": "c1ab10ce",
    "outputId": "4880fad5-1b49-4ec4-840c-bbc672a38a33"
   },
   "outputs": [
    {
     "name": "stdout",
     "output_type": "stream",
     "text": [
      "ENTERTAINMENT    30\n",
      "POLITICS         29\n",
      "WORLD NEWS       10\n",
      "COMEDY            7\n",
      "BLACK VOICES      6\n",
      "CRIME             4\n",
      "WEIRD NEWS        4\n",
      "WOMEN             4\n",
      "QUEER VOICES      3\n",
      "IMPACT            2\n",
      "SPORTS            1\n",
      "BUSINESS          1\n",
      "Name: category, dtype: int64\n",
      "\n"
     ]
    },
    {
     "data": {
      "image/png": "[encoded data removed]",
      "text/plain": [
       "<Figure size 576x576 with 1 Axes>"
      ]
     },
     "metadata": {},
     "output_type": "display_data"
    }
   ],
   "source": [
    "# See value counts of Rating\n",
    "\n",
    "print(df['category'].value_counts())\n",
    "print('')\n",
    "\n",
    "df.category.value_counts().plot(kind='pie', figsize=(8,8), autopct='%1.1f%%')\n",
    "plt.title('category of Reviews', weight='bold', fontsize=15)\n",
    "plt.show()"
   ]
  },
  {
   "cell_type": "markdown",
   "id": "50f71a0f",
   "metadata": {
    "id": "50f71a0f"
   },
   "source": [
    "## Data Preprocessing"
   ]
  },
  {
   "cell_type": "markdown",
   "id": "3e9649af",
   "metadata": {
    "id": "3e9649af"
   },
   "source": [
    "### Create Data Inference"
   ]
  },
  {
   "cell_type": "code",
   "execution_count": 130,
   "id": "0e8c8c0f",
   "metadata": {
    "colab": {
     "base_uri": "https://localhost:8080/",
     "height": 1000
    },
    "id": "0e8c8c0f",
    "outputId": "1eac7687-7feb-46e0-b0f5-b6cc34a46bc4",
    "scrolled": true
   },
   "outputs": [
    {
     "data": {
      "text/html": [
       "<div>\n",
       "<style scoped>\n",
       "    .dataframe tbody tr th:only-of-type {\n",
       "        vertical-align: middle;\n",
       "    }\n",
       "\n",
       "    .dataframe tbody tr th {\n",
       "        vertical-align: top;\n",
       "    }\n",
       "\n",
       "    .dataframe thead th {\n",
       "        text-align: right;\n",
       "    }\n",
       "</style>\n",
       "<table border=\"1\" class=\"dataframe\">\n",
       "  <thead>\n",
       "    <tr style=\"text-align: right;\">\n",
       "      <th></th>\n",
       "      <th>content_id</th>\n",
       "      <th>category</th>\n",
       "      <th>headline</th>\n",
       "      <th>authors</th>\n",
       "      <th>link</th>\n",
       "      <th>short_description</th>\n",
       "      <th>date</th>\n",
       "      <th>Length_headline</th>\n",
       "      <th>Length_authors</th>\n",
       "      <th>Length_link</th>\n",
       "      <th>Length_short_description</th>\n",
       "    </tr>\n",
       "  </thead>\n",
       "  <tbody>\n",
       "    <tr>\n",
       "      <th>37</th>\n",
       "      <td>38</td>\n",
       "      <td>COMEDY</td>\n",
       "      <td>Trump's New 'MAGA'-Themed Swimwear Sinks On Tw...</td>\n",
       "      <td>Ed Mazza</td>\n",
       "      <td>https://www.huffingtonpost.com/entry/trump-mag...</td>\n",
       "      <td>\"Does this swimsuit make me look racist?\"</td>\n",
       "      <td>2018-05-25</td>\n",
       "      <td>51</td>\n",
       "      <td>8</td>\n",
       "      <td>85</td>\n",
       "      <td>41</td>\n",
       "    </tr>\n",
       "    <tr>\n",
       "      <th>26</th>\n",
       "      <td>27</td>\n",
       "      <td>WORLD NEWS</td>\n",
       "      <td>Irish Voters Set To Liberalize Abortion Laws I...</td>\n",
       "      <td></td>\n",
       "      <td>https://www.huffingtonpost.com/entry/ireland-a...</td>\n",
       "      <td>Vote counting will begin Saturday.</td>\n",
       "      <td>2018-05-25</td>\n",
       "      <td>76</td>\n",
       "      <td>0</td>\n",
       "      <td>96</td>\n",
       "      <td>34</td>\n",
       "    </tr>\n",
       "    <tr>\n",
       "      <th>78</th>\n",
       "      <td>79</td>\n",
       "      <td>COMEDY</td>\n",
       "      <td>'Late Night' Writer's Breathless Royal Wedding...</td>\n",
       "      <td>Lee Moran</td>\n",
       "      <td>https://www.huffingtonpost.com/entry/royal-wed...</td>\n",
       "      <td>“Then he bites his lip, like, ‘Hmm, girl.’”</td>\n",
       "      <td>2018-05-24</td>\n",
       "      <td>77</td>\n",
       "      <td>9</td>\n",
       "      <td>114</td>\n",
       "      <td>43</td>\n",
       "    </tr>\n",
       "    <tr>\n",
       "      <th>94</th>\n",
       "      <td>95</td>\n",
       "      <td>POLITICS</td>\n",
       "      <td>Ireland's Historic Vote On Legalizing Abortion...</td>\n",
       "      <td>Laura Bassett</td>\n",
       "      <td>https://www.huffingtonpost.com/entry/irelands-...</td>\n",
       "      <td>American influence could tip the referendum.</td>\n",
       "      <td>2018-05-24</td>\n",
       "      <td>77</td>\n",
       "      <td>13</td>\n",
       "      <td>117</td>\n",
       "      <td>44</td>\n",
       "    </tr>\n",
       "    <tr>\n",
       "      <th>49</th>\n",
       "      <td>50</td>\n",
       "      <td>ENTERTAINMENT</td>\n",
       "      <td>Pete Davidson Says His Mental Illness Doesn't ...</td>\n",
       "      <td>Ron Dicker</td>\n",
       "      <td>https://www.huffingtonpost.com/entry/pete-davi...</td>\n",
       "      <td>The \"SNL\" star reacted to criticism that he sh...</td>\n",
       "      <td>2018-05-25</td>\n",
       "      <td>58</td>\n",
       "      <td>10</td>\n",
       "      <td>100</td>\n",
       "      <td>120</td>\n",
       "    </tr>\n",
       "    <tr>\n",
       "      <th>15</th>\n",
       "      <td>16</td>\n",
       "      <td>POLITICS</td>\n",
       "      <td>Edward Snowden: There's No One Trump Loves Mor...</td>\n",
       "      <td>Mary Papenfuss</td>\n",
       "      <td>https://www.huffingtonpost.com/entry/edward-sn...</td>\n",
       "      <td>But don't count on Robert Mueller to nail him,...</td>\n",
       "      <td>2018-05-26</td>\n",
       "      <td>67</td>\n",
       "      <td>14</td>\n",
       "      <td>97</td>\n",
       "      <td>75</td>\n",
       "    </tr>\n",
       "    <tr>\n",
       "      <th>93</th>\n",
       "      <td>94</td>\n",
       "      <td>POLITICS</td>\n",
       "      <td>Immigrant Children Accuse Border Patrol Of Abu...</td>\n",
       "      <td>Willa Frej</td>\n",
       "      <td>https://www.huffingtonpost.com/entry/immigrant...</td>\n",
       "      <td>One 16-year-old filed a complaint alleging tha...</td>\n",
       "      <td>2018-05-24</td>\n",
       "      <td>74</td>\n",
       "      <td>10</td>\n",
       "      <td>103</td>\n",
       "      <td>138</td>\n",
       "    </tr>\n",
       "    <tr>\n",
       "      <th>71</th>\n",
       "      <td>72</td>\n",
       "      <td>QUEER VOICES</td>\n",
       "      <td>How 'RuPaul’s Drag Race' Is Teaching Straight ...</td>\n",
       "      <td>INTO, Editorial Partner</td>\n",
       "      <td>https://www.huffingtonpost.com/entry/how-rupau...</td>\n",
       "      <td>Mainstream pop culture isn’t the only thing to...</td>\n",
       "      <td>2018-05-25</td>\n",
       "      <td>72</td>\n",
       "      <td>23</td>\n",
       "      <td>114</td>\n",
       "      <td>104</td>\n",
       "    </tr>\n",
       "    <tr>\n",
       "      <th>86</th>\n",
       "      <td>87</td>\n",
       "      <td>COMEDY</td>\n",
       "      <td>Seth Meyers Gives Donald Trump Some Valuable M...</td>\n",
       "      <td>Lee Moran</td>\n",
       "      <td>https://www.huffingtonpost.com/entry/seth-meye...</td>\n",
       "      <td>“Stop trying to make ‘Fetch’ happen.\"</td>\n",
       "      <td>2018-05-24</td>\n",
       "      <td>61</td>\n",
       "      <td>9</td>\n",
       "      <td>104</td>\n",
       "      <td>37</td>\n",
       "    </tr>\n",
       "    <tr>\n",
       "      <th>22</th>\n",
       "      <td>23</td>\n",
       "      <td>WEIRD NEWS</td>\n",
       "      <td>Mystery 'Wolf-Like' Animal Reportedly Shot In ...</td>\n",
       "      <td>Hilary Hanson</td>\n",
       "      <td>https://www.huffingtonpost.com/entry/montana-w...</td>\n",
       "      <td>“We have no idea what this was until we get a ...</td>\n",
       "      <td>2018-05-26</td>\n",
       "      <td>81</td>\n",
       "      <td>13</td>\n",
       "      <td>97</td>\n",
       "      <td>63</td>\n",
       "    </tr>\n",
       "  </tbody>\n",
       "</table>\n",
       "</div>"
      ],
      "text/plain": [
       "    content_id       category  \\\n",
       "37          38         COMEDY   \n",
       "26          27     WORLD NEWS   \n",
       "78          79         COMEDY   \n",
       "94          95       POLITICS   \n",
       "49          50  ENTERTAINMENT   \n",
       "15          16       POLITICS   \n",
       "93          94       POLITICS   \n",
       "71          72   QUEER VOICES   \n",
       "86          87         COMEDY   \n",
       "22          23     WEIRD NEWS   \n",
       "\n",
       "                                             headline  \\\n",
       "37  Trump's New 'MAGA'-Themed Swimwear Sinks On Tw...   \n",
       "26  Irish Voters Set To Liberalize Abortion Laws I...   \n",
       "78  'Late Night' Writer's Breathless Royal Wedding...   \n",
       "94  Ireland's Historic Vote On Legalizing Abortion...   \n",
       "49  Pete Davidson Says His Mental Illness Doesn't ...   \n",
       "15  Edward Snowden: There's No One Trump Loves Mor...   \n",
       "93  Immigrant Children Accuse Border Patrol Of Abu...   \n",
       "71  How 'RuPaul’s Drag Race' Is Teaching Straight ...   \n",
       "86  Seth Meyers Gives Donald Trump Some Valuable M...   \n",
       "22  Mystery 'Wolf-Like' Animal Reportedly Shot In ...   \n",
       "\n",
       "                    authors  \\\n",
       "37                 Ed Mazza   \n",
       "26                            \n",
       "78                Lee Moran   \n",
       "94            Laura Bassett   \n",
       "49               Ron Dicker   \n",
       "15           Mary Papenfuss   \n",
       "93               Willa Frej   \n",
       "71  INTO, Editorial Partner   \n",
       "86                Lee Moran   \n",
       "22            Hilary Hanson   \n",
       "\n",
       "                                                 link  \\\n",
       "37  https://www.huffingtonpost.com/entry/trump-mag...   \n",
       "26  https://www.huffingtonpost.com/entry/ireland-a...   \n",
       "78  https://www.huffingtonpost.com/entry/royal-wed...   \n",
       "94  https://www.huffingtonpost.com/entry/irelands-...   \n",
       "49  https://www.huffingtonpost.com/entry/pete-davi...   \n",
       "15  https://www.huffingtonpost.com/entry/edward-sn...   \n",
       "93  https://www.huffingtonpost.com/entry/immigrant...   \n",
       "71  https://www.huffingtonpost.com/entry/how-rupau...   \n",
       "86  https://www.huffingtonpost.com/entry/seth-meye...   \n",
       "22  https://www.huffingtonpost.com/entry/montana-w...   \n",
       "\n",
       "                                    short_description       date  \\\n",
       "37          \"Does this swimsuit make me look racist?\" 2018-05-25   \n",
       "26                 Vote counting will begin Saturday. 2018-05-25   \n",
       "78        “Then he bites his lip, like, ‘Hmm, girl.’” 2018-05-24   \n",
       "94       American influence could tip the referendum. 2018-05-24   \n",
       "49  The \"SNL\" star reacted to criticism that he sh... 2018-05-25   \n",
       "15  But don't count on Robert Mueller to nail him,... 2018-05-26   \n",
       "93  One 16-year-old filed a complaint alleging tha... 2018-05-24   \n",
       "71  Mainstream pop culture isn’t the only thing to... 2018-05-25   \n",
       "86              “Stop trying to make ‘Fetch’ happen.\" 2018-05-24   \n",
       "22  “We have no idea what this was until we get a ... 2018-05-26   \n",
       "\n",
       "    Length_headline  Length_authors  Length_link  Length_short_description  \n",
       "37               51               8           85                        41  \n",
       "26               76               0           96                        34  \n",
       "78               77               9          114                        43  \n",
       "94               77              13          117                        44  \n",
       "49               58              10          100                       120  \n",
       "15               67              14           97                        75  \n",
       "93               74              10          103                       138  \n",
       "71               72              23          114                       104  \n",
       "86               61               9          104                        37  \n",
       "22               81              13           97                        63  "
      ]
     },
     "execution_count": 130,
     "metadata": {},
     "output_type": "execute_result"
    }
   ],
   "source": [
    "# Get Data for Model Inference\n",
    "df_inf1 = df.sample(10, random_state=7)\n",
    "df_inf1"
   ]
  },
  {
   "cell_type": "code",
   "execution_count": 131,
   "id": "2b5e6377",
   "metadata": {
    "colab": {
     "base_uri": "https://localhost:8080/",
     "height": 1000
    },
    "id": "2b5e6377",
    "outputId": "b5965b0d-a9de-488e-e249-db2db0a2a99e"
   },
   "outputs": [
    {
     "data": {
      "text/html": [
       "<div>\n",
       "<style scoped>\n",
       "    .dataframe tbody tr th:only-of-type {\n",
       "        vertical-align: middle;\n",
       "    }\n",
       "\n",
       "    .dataframe tbody tr th {\n",
       "        vertical-align: top;\n",
       "    }\n",
       "\n",
       "    .dataframe thead th {\n",
       "        text-align: right;\n",
       "    }\n",
       "</style>\n",
       "<table border=\"1\" class=\"dataframe\">\n",
       "  <thead>\n",
       "    <tr style=\"text-align: right;\">\n",
       "      <th></th>\n",
       "      <th>content_id</th>\n",
       "      <th>category</th>\n",
       "      <th>headline</th>\n",
       "      <th>authors</th>\n",
       "      <th>link</th>\n",
       "      <th>short_description</th>\n",
       "      <th>date</th>\n",
       "      <th>Length_headline</th>\n",
       "      <th>Length_authors</th>\n",
       "      <th>Length_link</th>\n",
       "      <th>Length_short_description</th>\n",
       "    </tr>\n",
       "  </thead>\n",
       "  <tbody>\n",
       "    <tr>\n",
       "      <th>0</th>\n",
       "      <td>1</td>\n",
       "      <td>CRIME</td>\n",
       "      <td>There Were 2 Mass Shootings In Texas Last Week...</td>\n",
       "      <td>Melissa Jeltsen</td>\n",
       "      <td>https://www.huffingtonpost.com/entry/texas-ama...</td>\n",
       "      <td>She left her husband. He killed their children...</td>\n",
       "      <td>2018-05-26</td>\n",
       "      <td>64</td>\n",
       "      <td>15</td>\n",
       "      <td>99</td>\n",
       "      <td>76</td>\n",
       "    </tr>\n",
       "    <tr>\n",
       "      <th>1</th>\n",
       "      <td>2</td>\n",
       "      <td>ENTERTAINMENT</td>\n",
       "      <td>Will Smith Joins Diplo And Nicky Jam For The 2...</td>\n",
       "      <td>Andy McDonald</td>\n",
       "      <td>https://www.huffingtonpost.com/entry/will-smit...</td>\n",
       "      <td>Of course it has a song.</td>\n",
       "      <td>2018-05-26</td>\n",
       "      <td>75</td>\n",
       "      <td>13</td>\n",
       "      <td>138</td>\n",
       "      <td>24</td>\n",
       "    </tr>\n",
       "    <tr>\n",
       "      <th>2</th>\n",
       "      <td>3</td>\n",
       "      <td>ENTERTAINMENT</td>\n",
       "      <td>Hugh Grant Marries For The First Time At Age 57</td>\n",
       "      <td>Ron Dicker</td>\n",
       "      <td>https://www.huffingtonpost.com/entry/hugh-gran...</td>\n",
       "      <td>The actor and his longtime girlfriend Anna Ebe...</td>\n",
       "      <td>2018-05-26</td>\n",
       "      <td>47</td>\n",
       "      <td>10</td>\n",
       "      <td>83</td>\n",
       "      <td>87</td>\n",
       "    </tr>\n",
       "    <tr>\n",
       "      <th>3</th>\n",
       "      <td>4</td>\n",
       "      <td>ENTERTAINMENT</td>\n",
       "      <td>Jim Carrey Blasts 'Castrato' Adam Schiff And D...</td>\n",
       "      <td>Ron Dicker</td>\n",
       "      <td>https://www.huffingtonpost.com/entry/jim-carre...</td>\n",
       "      <td>The actor gives Dems an ass-kicking for not fi...</td>\n",
       "      <td>2018-05-26</td>\n",
       "      <td>69</td>\n",
       "      <td>10</td>\n",
       "      <td>97</td>\n",
       "      <td>86</td>\n",
       "    </tr>\n",
       "    <tr>\n",
       "      <th>4</th>\n",
       "      <td>5</td>\n",
       "      <td>ENTERTAINMENT</td>\n",
       "      <td>Julianna Margulies Uses Donald Trump Poop Bags...</td>\n",
       "      <td>Ron Dicker</td>\n",
       "      <td>https://www.huffingtonpost.com/entry/julianna-...</td>\n",
       "      <td>The \"Dietland\" actress said using the bags is ...</td>\n",
       "      <td>2018-05-26</td>\n",
       "      <td>71</td>\n",
       "      <td>10</td>\n",
       "      <td>98</td>\n",
       "      <td>87</td>\n",
       "    </tr>\n",
       "    <tr>\n",
       "      <th>...</th>\n",
       "      <td>...</td>\n",
       "      <td>...</td>\n",
       "      <td>...</td>\n",
       "      <td>...</td>\n",
       "      <td>...</td>\n",
       "      <td>...</td>\n",
       "      <td>...</td>\n",
       "      <td>...</td>\n",
       "      <td>...</td>\n",
       "      <td>...</td>\n",
       "      <td>...</td>\n",
       "    </tr>\n",
       "    <tr>\n",
       "      <th>96</th>\n",
       "      <td>97</td>\n",
       "      <td>POLITICS</td>\n",
       "      <td>Senate Advances Court Pick Who Said Planned Pa...</td>\n",
       "      <td>Jennifer Bendery</td>\n",
       "      <td>https://www.huffingtonpost.com/entry/wendy-vit...</td>\n",
       "      <td>Every Republican on the judiciary committee vo...</td>\n",
       "      <td>2018-05-24</td>\n",
       "      <td>90</td>\n",
       "      <td>16</td>\n",
       "      <td>98</td>\n",
       "      <td>67</td>\n",
       "    </tr>\n",
       "    <tr>\n",
       "      <th>97</th>\n",
       "      <td>98</td>\n",
       "      <td>POLITICS</td>\n",
       "      <td>Rudy Giuliani: Trump Won't Interview With Muel...</td>\n",
       "      <td>S.V. Date</td>\n",
       "      <td>https://www.huffingtonpost.com/entry/trump-giu...</td>\n",
       "      <td>The canceled North Korea summit doesn’t mean t...</td>\n",
       "      <td>2018-05-24</td>\n",
       "      <td>79</td>\n",
       "      <td>9</td>\n",
       "      <td>99</td>\n",
       "      <td>111</td>\n",
       "    </tr>\n",
       "    <tr>\n",
       "      <th>98</th>\n",
       "      <td>99</td>\n",
       "      <td>POLITICS</td>\n",
       "      <td>Kentucky Attorney Running For Judge Dies 1 Day...</td>\n",
       "      <td>Nina Golgowski</td>\n",
       "      <td>https://www.huffingtonpost.com/entry/judge-can...</td>\n",
       "      <td>Danny Alvarez, a married of father of three, w...</td>\n",
       "      <td>2018-05-24</td>\n",
       "      <td>64</td>\n",
       "      <td>14</td>\n",
       "      <td>99</td>\n",
       "      <td>111</td>\n",
       "    </tr>\n",
       "    <tr>\n",
       "      <th>99</th>\n",
       "      <td>100</td>\n",
       "      <td>POLITICS</td>\n",
       "      <td>Chrissy Teigen Taunts Donald Trump Over Twitte...</td>\n",
       "      <td>Lee Moran</td>\n",
       "      <td>https://www.huffingtonpost.com/entry/chrissy-t...</td>\n",
       "      <td>Other tweeters, including Mexico's former pres...</td>\n",
       "      <td>2018-05-24</td>\n",
       "      <td>63</td>\n",
       "      <td>9</td>\n",
       "      <td>108</td>\n",
       "      <td>103</td>\n",
       "    </tr>\n",
       "    <tr>\n",
       "      <th>100</th>\n",
       "      <td>101</td>\n",
       "      <td>POLITICS</td>\n",
       "      <td>The Koch Network Is Going After One Of Trump’s...</td>\n",
       "      <td>Kevin Robillard</td>\n",
       "      <td>https://www.huffingtonpost.com/entry/koch-brot...</td>\n",
       "      <td>The billionaire Koch brothers’ political netwo...</td>\n",
       "      <td>2018-05-24</td>\n",
       "      <td>67</td>\n",
       "      <td>15</td>\n",
       "      <td>117</td>\n",
       "      <td>119</td>\n",
       "    </tr>\n",
       "  </tbody>\n",
       "</table>\n",
       "<p>91 rows × 11 columns</p>\n",
       "</div>"
      ],
      "text/plain": [
       "     content_id       category  \\\n",
       "0             1          CRIME   \n",
       "1             2  ENTERTAINMENT   \n",
       "2             3  ENTERTAINMENT   \n",
       "3             4  ENTERTAINMENT   \n",
       "4             5  ENTERTAINMENT   \n",
       "..          ...            ...   \n",
       "96           97       POLITICS   \n",
       "97           98       POLITICS   \n",
       "98           99       POLITICS   \n",
       "99          100       POLITICS   \n",
       "100         101       POLITICS   \n",
       "\n",
       "                                              headline           authors  \\\n",
       "0    There Were 2 Mass Shootings In Texas Last Week...   Melissa Jeltsen   \n",
       "1    Will Smith Joins Diplo And Nicky Jam For The 2...     Andy McDonald   \n",
       "2      Hugh Grant Marries For The First Time At Age 57        Ron Dicker   \n",
       "3    Jim Carrey Blasts 'Castrato' Adam Schiff And D...        Ron Dicker   \n",
       "4    Julianna Margulies Uses Donald Trump Poop Bags...        Ron Dicker   \n",
       "..                                                 ...               ...   \n",
       "96   Senate Advances Court Pick Who Said Planned Pa...  Jennifer Bendery   \n",
       "97   Rudy Giuliani: Trump Won't Interview With Muel...         S.V. Date   \n",
       "98   Kentucky Attorney Running For Judge Dies 1 Day...    Nina Golgowski   \n",
       "99   Chrissy Teigen Taunts Donald Trump Over Twitte...         Lee Moran   \n",
       "100  The Koch Network Is Going After One Of Trump’s...   Kevin Robillard   \n",
       "\n",
       "                                                  link  \\\n",
       "0    https://www.huffingtonpost.com/entry/texas-ama...   \n",
       "1    https://www.huffingtonpost.com/entry/will-smit...   \n",
       "2    https://www.huffingtonpost.com/entry/hugh-gran...   \n",
       "3    https://www.huffingtonpost.com/entry/jim-carre...   \n",
       "4    https://www.huffingtonpost.com/entry/julianna-...   \n",
       "..                                                 ...   \n",
       "96   https://www.huffingtonpost.com/entry/wendy-vit...   \n",
       "97   https://www.huffingtonpost.com/entry/trump-giu...   \n",
       "98   https://www.huffingtonpost.com/entry/judge-can...   \n",
       "99   https://www.huffingtonpost.com/entry/chrissy-t...   \n",
       "100  https://www.huffingtonpost.com/entry/koch-brot...   \n",
       "\n",
       "                                     short_description       date  \\\n",
       "0    She left her husband. He killed their children... 2018-05-26   \n",
       "1                             Of course it has a song. 2018-05-26   \n",
       "2    The actor and his longtime girlfriend Anna Ebe... 2018-05-26   \n",
       "3    The actor gives Dems an ass-kicking for not fi... 2018-05-26   \n",
       "4    The \"Dietland\" actress said using the bags is ... 2018-05-26   \n",
       "..                                                 ...        ...   \n",
       "96   Every Republican on the judiciary committee vo... 2018-05-24   \n",
       "97   The canceled North Korea summit doesn’t mean t... 2018-05-24   \n",
       "98   Danny Alvarez, a married of father of three, w... 2018-05-24   \n",
       "99   Other tweeters, including Mexico's former pres... 2018-05-24   \n",
       "100  The billionaire Koch brothers’ political netwo... 2018-05-24   \n",
       "\n",
       "     Length_headline  Length_authors  Length_link  Length_short_description  \n",
       "0                 64              15           99                        76  \n",
       "1                 75              13          138                        24  \n",
       "2                 47              10           83                        87  \n",
       "3                 69              10           97                        86  \n",
       "4                 71              10           98                        87  \n",
       "..               ...             ...          ...                       ...  \n",
       "96                90              16           98                        67  \n",
       "97                79               9           99                       111  \n",
       "98                64              14           99                       111  \n",
       "99                63               9          108                       103  \n",
       "100               67              15          117                       119  \n",
       "\n",
       "[91 rows x 11 columns]"
      ]
     },
     "execution_count": 131,
     "metadata": {},
     "output_type": "execute_result"
    }
   ],
   "source": [
    "# Remove inference set from Dataset\n",
    "df_train_test = df.drop(df_inf1.index)\n",
    "df_train_test"
   ]
  },
  {
   "cell_type": "code",
   "execution_count": 132,
   "id": "43d8f16d",
   "metadata": {
    "colab": {
     "base_uri": "https://localhost:8080/",
     "height": 1000
    },
    "id": "43d8f16d",
    "outputId": "73f4f8e9-44d6-4315-cea1-21c91e3097a5"
   },
   "outputs": [
    {
     "data": {
      "text/html": [
       "<div>\n",
       "<style scoped>\n",
       "    .dataframe tbody tr th:only-of-type {\n",
       "        vertical-align: middle;\n",
       "    }\n",
       "\n",
       "    .dataframe tbody tr th {\n",
       "        vertical-align: top;\n",
       "    }\n",
       "\n",
       "    .dataframe thead th {\n",
       "        text-align: right;\n",
       "    }\n",
       "</style>\n",
       "<table border=\"1\" class=\"dataframe\">\n",
       "  <thead>\n",
       "    <tr style=\"text-align: right;\">\n",
       "      <th></th>\n",
       "      <th>content_id</th>\n",
       "      <th>category</th>\n",
       "      <th>headline</th>\n",
       "      <th>authors</th>\n",
       "      <th>link</th>\n",
       "      <th>short_description</th>\n",
       "      <th>date</th>\n",
       "      <th>Length_headline</th>\n",
       "      <th>Length_authors</th>\n",
       "      <th>Length_link</th>\n",
       "      <th>Length_short_description</th>\n",
       "    </tr>\n",
       "  </thead>\n",
       "  <tbody>\n",
       "    <tr>\n",
       "      <th>0</th>\n",
       "      <td>38</td>\n",
       "      <td>COMEDY</td>\n",
       "      <td>Trump's New 'MAGA'-Themed Swimwear Sinks On Tw...</td>\n",
       "      <td>Ed Mazza</td>\n",
       "      <td>https://www.huffingtonpost.com/entry/trump-mag...</td>\n",
       "      <td>\"Does this swimsuit make me look racist?\"</td>\n",
       "      <td>2018-05-25</td>\n",
       "      <td>51</td>\n",
       "      <td>8</td>\n",
       "      <td>85</td>\n",
       "      <td>41</td>\n",
       "    </tr>\n",
       "    <tr>\n",
       "      <th>1</th>\n",
       "      <td>27</td>\n",
       "      <td>WORLD NEWS</td>\n",
       "      <td>Irish Voters Set To Liberalize Abortion Laws I...</td>\n",
       "      <td></td>\n",
       "      <td>https://www.huffingtonpost.com/entry/ireland-a...</td>\n",
       "      <td>Vote counting will begin Saturday.</td>\n",
       "      <td>2018-05-25</td>\n",
       "      <td>76</td>\n",
       "      <td>0</td>\n",
       "      <td>96</td>\n",
       "      <td>34</td>\n",
       "    </tr>\n",
       "    <tr>\n",
       "      <th>2</th>\n",
       "      <td>79</td>\n",
       "      <td>COMEDY</td>\n",
       "      <td>'Late Night' Writer's Breathless Royal Wedding...</td>\n",
       "      <td>Lee Moran</td>\n",
       "      <td>https://www.huffingtonpost.com/entry/royal-wed...</td>\n",
       "      <td>“Then he bites his lip, like, ‘Hmm, girl.’”</td>\n",
       "      <td>2018-05-24</td>\n",
       "      <td>77</td>\n",
       "      <td>9</td>\n",
       "      <td>114</td>\n",
       "      <td>43</td>\n",
       "    </tr>\n",
       "    <tr>\n",
       "      <th>3</th>\n",
       "      <td>95</td>\n",
       "      <td>POLITICS</td>\n",
       "      <td>Ireland's Historic Vote On Legalizing Abortion...</td>\n",
       "      <td>Laura Bassett</td>\n",
       "      <td>https://www.huffingtonpost.com/entry/irelands-...</td>\n",
       "      <td>American influence could tip the referendum.</td>\n",
       "      <td>2018-05-24</td>\n",
       "      <td>77</td>\n",
       "      <td>13</td>\n",
       "      <td>117</td>\n",
       "      <td>44</td>\n",
       "    </tr>\n",
       "    <tr>\n",
       "      <th>4</th>\n",
       "      <td>50</td>\n",
       "      <td>ENTERTAINMENT</td>\n",
       "      <td>Pete Davidson Says His Mental Illness Doesn't ...</td>\n",
       "      <td>Ron Dicker</td>\n",
       "      <td>https://www.huffingtonpost.com/entry/pete-davi...</td>\n",
       "      <td>The \"SNL\" star reacted to criticism that he sh...</td>\n",
       "      <td>2018-05-25</td>\n",
       "      <td>58</td>\n",
       "      <td>10</td>\n",
       "      <td>100</td>\n",
       "      <td>120</td>\n",
       "    </tr>\n",
       "    <tr>\n",
       "      <th>5</th>\n",
       "      <td>16</td>\n",
       "      <td>POLITICS</td>\n",
       "      <td>Edward Snowden: There's No One Trump Loves Mor...</td>\n",
       "      <td>Mary Papenfuss</td>\n",
       "      <td>https://www.huffingtonpost.com/entry/edward-sn...</td>\n",
       "      <td>But don't count on Robert Mueller to nail him,...</td>\n",
       "      <td>2018-05-26</td>\n",
       "      <td>67</td>\n",
       "      <td>14</td>\n",
       "      <td>97</td>\n",
       "      <td>75</td>\n",
       "    </tr>\n",
       "    <tr>\n",
       "      <th>6</th>\n",
       "      <td>94</td>\n",
       "      <td>POLITICS</td>\n",
       "      <td>Immigrant Children Accuse Border Patrol Of Abu...</td>\n",
       "      <td>Willa Frej</td>\n",
       "      <td>https://www.huffingtonpost.com/entry/immigrant...</td>\n",
       "      <td>One 16-year-old filed a complaint alleging tha...</td>\n",
       "      <td>2018-05-24</td>\n",
       "      <td>74</td>\n",
       "      <td>10</td>\n",
       "      <td>103</td>\n",
       "      <td>138</td>\n",
       "    </tr>\n",
       "    <tr>\n",
       "      <th>7</th>\n",
       "      <td>72</td>\n",
       "      <td>QUEER VOICES</td>\n",
       "      <td>How 'RuPaul’s Drag Race' Is Teaching Straight ...</td>\n",
       "      <td>INTO, Editorial Partner</td>\n",
       "      <td>https://www.huffingtonpost.com/entry/how-rupau...</td>\n",
       "      <td>Mainstream pop culture isn’t the only thing to...</td>\n",
       "      <td>2018-05-25</td>\n",
       "      <td>72</td>\n",
       "      <td>23</td>\n",
       "      <td>114</td>\n",
       "      <td>104</td>\n",
       "    </tr>\n",
       "    <tr>\n",
       "      <th>8</th>\n",
       "      <td>87</td>\n",
       "      <td>COMEDY</td>\n",
       "      <td>Seth Meyers Gives Donald Trump Some Valuable M...</td>\n",
       "      <td>Lee Moran</td>\n",
       "      <td>https://www.huffingtonpost.com/entry/seth-meye...</td>\n",
       "      <td>“Stop trying to make ‘Fetch’ happen.\"</td>\n",
       "      <td>2018-05-24</td>\n",
       "      <td>61</td>\n",
       "      <td>9</td>\n",
       "      <td>104</td>\n",
       "      <td>37</td>\n",
       "    </tr>\n",
       "    <tr>\n",
       "      <th>9</th>\n",
       "      <td>23</td>\n",
       "      <td>WEIRD NEWS</td>\n",
       "      <td>Mystery 'Wolf-Like' Animal Reportedly Shot In ...</td>\n",
       "      <td>Hilary Hanson</td>\n",
       "      <td>https://www.huffingtonpost.com/entry/montana-w...</td>\n",
       "      <td>“We have no idea what this was until we get a ...</td>\n",
       "      <td>2018-05-26</td>\n",
       "      <td>81</td>\n",
       "      <td>13</td>\n",
       "      <td>97</td>\n",
       "      <td>63</td>\n",
       "    </tr>\n",
       "  </tbody>\n",
       "</table>\n",
       "</div>"
      ],
      "text/plain": [
       "   content_id       category  \\\n",
       "0          38         COMEDY   \n",
       "1          27     WORLD NEWS   \n",
       "2          79         COMEDY   \n",
       "3          95       POLITICS   \n",
       "4          50  ENTERTAINMENT   \n",
       "5          16       POLITICS   \n",
       "6          94       POLITICS   \n",
       "7          72   QUEER VOICES   \n",
       "8          87         COMEDY   \n",
       "9          23     WEIRD NEWS   \n",
       "\n",
       "                                            headline                  authors  \\\n",
       "0  Trump's New 'MAGA'-Themed Swimwear Sinks On Tw...                 Ed Mazza   \n",
       "1  Irish Voters Set To Liberalize Abortion Laws I...                            \n",
       "2  'Late Night' Writer's Breathless Royal Wedding...                Lee Moran   \n",
       "3  Ireland's Historic Vote On Legalizing Abortion...            Laura Bassett   \n",
       "4  Pete Davidson Says His Mental Illness Doesn't ...               Ron Dicker   \n",
       "5  Edward Snowden: There's No One Trump Loves Mor...           Mary Papenfuss   \n",
       "6  Immigrant Children Accuse Border Patrol Of Abu...               Willa Frej   \n",
       "7  How 'RuPaul’s Drag Race' Is Teaching Straight ...  INTO, Editorial Partner   \n",
       "8  Seth Meyers Gives Donald Trump Some Valuable M...                Lee Moran   \n",
       "9  Mystery 'Wolf-Like' Animal Reportedly Shot In ...            Hilary Hanson   \n",
       "\n",
       "                                                link  \\\n",
       "0  https://www.huffingtonpost.com/entry/trump-mag...   \n",
       "1  https://www.huffingtonpost.com/entry/ireland-a...   \n",
       "2  https://www.huffingtonpost.com/entry/royal-wed...   \n",
       "3  https://www.huffingtonpost.com/entry/irelands-...   \n",
       "4  https://www.huffingtonpost.com/entry/pete-davi...   \n",
       "5  https://www.huffingtonpost.com/entry/edward-sn...   \n",
       "6  https://www.huffingtonpost.com/entry/immigrant...   \n",
       "7  https://www.huffingtonpost.com/entry/how-rupau...   \n",
       "8  https://www.huffingtonpost.com/entry/seth-meye...   \n",
       "9  https://www.huffingtonpost.com/entry/montana-w...   \n",
       "\n",
       "                                   short_description       date  \\\n",
       "0          \"Does this swimsuit make me look racist?\" 2018-05-25   \n",
       "1                 Vote counting will begin Saturday. 2018-05-25   \n",
       "2        “Then he bites his lip, like, ‘Hmm, girl.’” 2018-05-24   \n",
       "3       American influence could tip the referendum. 2018-05-24   \n",
       "4  The \"SNL\" star reacted to criticism that he sh... 2018-05-25   \n",
       "5  But don't count on Robert Mueller to nail him,... 2018-05-26   \n",
       "6  One 16-year-old filed a complaint alleging tha... 2018-05-24   \n",
       "7  Mainstream pop culture isn’t the only thing to... 2018-05-25   \n",
       "8              “Stop trying to make ‘Fetch’ happen.\" 2018-05-24   \n",
       "9  “We have no idea what this was until we get a ... 2018-05-26   \n",
       "\n",
       "   Length_headline  Length_authors  Length_link  Length_short_description  \n",
       "0               51               8           85                        41  \n",
       "1               76               0           96                        34  \n",
       "2               77               9          114                        43  \n",
       "3               77              13          117                        44  \n",
       "4               58              10          100                       120  \n",
       "5               67              14           97                        75  \n",
       "6               74              10          103                       138  \n",
       "7               72              23          114                       104  \n",
       "8               61               9          104                        37  \n",
       "9               81              13           97                        63  "
      ]
     },
     "execution_count": 132,
     "metadata": {},
     "output_type": "execute_result"
    }
   ],
   "source": [
    "# Reset Index\n",
    "df_train_test.reset_index(drop=True, inplace=True)\n",
    "df_inf1.reset_index(drop=True, inplace=True)\n",
    "df_inf1"
   ]
  },
  {
   "cell_type": "markdown",
   "id": "8fb79fa9",
   "metadata": {
    "id": "8fb79fa9"
   },
   "source": [
    "### Preprocessing Corpus"
   ]
  },
  {
   "cell_type": "markdown",
   "id": "13a0af8b",
   "metadata": {
    "id": "13a0af8b"
   },
   "source": [
    "Several stages of preprocessing performed on the text, namely:\n",
    "- Make all text into lowercase\n",
    "- Removes text in brackets\n",
    "- Fixed contractions. contractions are a unique type of word that join two or more other words in a shortened form, usually with an apostrophe. example: he's or I'm becomes he is or i am\n",
    "- Eliminate punctuation\n",
    "- Eliminate numbers\n",
    "- Eliminate non-latin letters\n",
    "- Eliminate non-words\n",
    "- Eliminate whitespace\n",
    "- Eliminate stopwords\n",
    "- Lemmatization"
   ]
  },
  {
   "cell_type": "code",
   "execution_count": 133,
   "id": "5df7fe1f",
   "metadata": {
    "id": "5df7fe1f"
   },
   "outputs": [],
   "source": [
    "# Make a function of text preprocessing\n",
    "\n",
    "def clean_rev(rev):\n",
    "\n",
    "    # make text lowercase\n",
    "    rev = rev.lower()\n",
    "\n",
    "    # remove text in bracket\n",
    "    rev = re.sub('', '', rev)\n",
    "\n",
    "    # fix contractions\n",
    "    rev = contractions.fix(rev)\n",
    "\n",
    "    # remove punctuation\n",
    "    rev = re.sub('[%s]' % re.escape(string.punctuation), '', rev)\n",
    "\n",
    "    # remove words containing numbers\n",
    "    rev = re.sub('\\w*\\d\\w*', '', rev)\n",
    "\n",
    "    # remove non-latin words\n",
    "    rev = re.sub('[^\\x00-\\x7f]', '', rev)\n",
    "\n",
    "    # remove non-words (emoji, etc.)\n",
    "    rev = re.sub(\"[^A-Za-z\\s']\", \" \", rev)\n",
    "\n",
    "    # remove underscores\n",
    "    rev =  str.replace(rev, '_', '')\n",
    "\n",
    "    # remove whitespace\n",
    "    rev = rev.strip()\n",
    "\n",
    "    # Tokenization\n",
    "    tokens = word_tokenize(rev)\n",
    "\n",
    "    # Remove Stopwords\n",
    "    stop_words = set(stopwords.words('english'))\n",
    "    stop_words.remove('not')\n",
    "    rev = [word for word in tokens if word not in stop_words]\n",
    "                   \n",
    "    # Lemmatize the word\n",
    "    sentence = []\n",
    "    for word in rev:\n",
    "      lm = WordNetLemmatizer()\n",
    "      sentence.append(lm.lemmatize(word, 'v'))\n",
    "\n",
    "    return ' '.join(sentence)"
   ]
  },
  {
   "cell_type": "code",
   "execution_count": 134,
   "id": "f4bee2d1",
   "metadata": {
    "id": "f4bee2d1"
   },
   "outputs": [],
   "source": [
    "# Apply function to dataFrame\n",
    "df_train_test['headlineCleaned'] = df_train_test['headline'].apply(lambda x: clean_rev(x))\n",
    "df_train_test['authorsCleaned'] = df_train_test['authors'].apply(lambda x: clean_rev(x))\n",
    "df_train_test['linkCleaned'] = df_train_test['link'].apply(lambda x: clean_rev(x))\n",
    "df_train_test['short_descriptionCleaned'] = df_train_test['short_description'].apply(lambda x: clean_rev(x))\n",
    "\n"
   ]
  },
  {
   "cell_type": "code",
   "execution_count": 135,
   "id": "6162043a",
   "metadata": {
    "colab": {
     "base_uri": "https://localhost:8080/"
    },
    "id": "6162043a",
    "outputId": "31dc02b8-afe4-40ba-8169-7b563da7da83"
   },
   "outputs": [
    {
     "data": {
      "text/plain": [
       "0                         mass shoot texas last week tv\n",
       "1     smith join diplo nicky jam world cup official ...\n",
       "2                       hugh grant marry first time age\n",
       "3     jim carrey blast castrato adam schiff democrat...\n",
       "4     julianna margulies use donald trump poop bag p...\n",
       "                            ...                        \n",
       "86    senate advance court pick say plan parenthood ...\n",
       "87    rudy giuliani trump not interview mueller get ...\n",
       "88      kentucky attorney run judge die day primary win\n",
       "89    chrissy teigen taunt donald trump twitter bloc...\n",
       "90       koch network go one trump favorite congressmen\n",
       "Name: headlineCleaned, Length: 91, dtype: object"
      ]
     },
     "execution_count": 135,
     "metadata": {},
     "output_type": "execute_result"
    }
   ],
   "source": [
    "df_train_test['headlineCleaned']"
   ]
  },
  {
   "cell_type": "code",
   "execution_count": 136,
   "id": "4bab4447",
   "metadata": {
    "colab": {
     "base_uri": "https://localhost:8080/"
    },
    "id": "4bab4447",
    "outputId": "59f82edf-eaae-4fa7-8a7a-e84f82798012"
   },
   "outputs": [
    {
     "data": {
      "text/plain": [
       "0      melissa jeltsen\n",
       "1        andy mcdonald\n",
       "2           ron dicker\n",
       "3           ron dicker\n",
       "4           ron dicker\n",
       "            ...       \n",
       "86    jennifer bendery\n",
       "87             sv date\n",
       "88      nina golgowski\n",
       "89           lee moran\n",
       "90     kevin robillard\n",
       "Name: authorsCleaned, Length: 91, dtype: object"
      ]
     },
     "execution_count": 136,
     "metadata": {},
     "output_type": "execute_result"
    }
   ],
   "source": [
    "df_train_test['authorsCleaned']"
   ]
  },
  {
   "cell_type": "code",
   "execution_count": 137,
   "id": "1d6d8688",
   "metadata": {
    "colab": {
     "base_uri": "https://localhost:8080/"
    },
    "id": "1d6d8688",
    "outputId": "7f699406-9b7f-49f3-96d4-ea567d8593cc"
   },
   "outputs": [
    {
     "data": {
      "text/plain": [
       "0      \n",
       "1      \n",
       "2      \n",
       "3      \n",
       "4      \n",
       "     ..\n",
       "86     \n",
       "87     \n",
       "88     \n",
       "89     \n",
       "90     \n",
       "Name: linkCleaned, Length: 91, dtype: object"
      ]
     },
     "execution_count": 137,
     "metadata": {},
     "output_type": "execute_result"
    }
   ],
   "source": [
    "df_train_test['linkCleaned']"
   ]
  },
  {
   "cell_type": "code",
   "execution_count": 138,
   "id": "5e501f83",
   "metadata": {
    "colab": {
     "base_uri": "https://localhost:8080/"
    },
    "id": "5e501f83",
    "outputId": "fa48d2aa-10e5-4886-fc2a-3b12a0fef4af"
   },
   "outputs": [
    {
     "data": {
      "text/plain": [
       "0       leave husband kill children another day america\n",
       "1                                           course song\n",
       "2     actor longtime girlfriend anna eberstein tie k...\n",
       "3     actor give dems asskicking not fight hard enou...\n",
       "4     dietland actress say use bag really cathartic ...\n",
       "                            ...                        \n",
       "86    every republican judiciary committee vote wend...\n",
       "87    cancel north korea summit not mean president t...\n",
       "88    danny alvarez marry father three vie jefferson...\n",
       "89    tweeters include mexicos former president vice...\n",
       "90    billionaire koch brothers political network wa...\n",
       "Name: short_descriptionCleaned, Length: 91, dtype: object"
      ]
     },
     "execution_count": 138,
     "metadata": {},
     "output_type": "execute_result"
    }
   ],
   "source": [
    "df_train_test['short_descriptionCleaned']"
   ]
  },
  {
   "cell_type": "code",
   "execution_count": 139,
   "id": "f3db07ed",
   "metadata": {
    "colab": {
     "base_uri": "https://localhost:8080/",
     "height": 485
    },
    "id": "f3db07ed",
    "outputId": "411710e0-84d8-4449-a823-ec752095b9ba"
   },
   "outputs": [
    {
     "data": {
      "text/html": [
       "<div>\n",
       "<style scoped>\n",
       "    .dataframe tbody tr th:only-of-type {\n",
       "        vertical-align: middle;\n",
       "    }\n",
       "\n",
       "    .dataframe tbody tr th {\n",
       "        vertical-align: top;\n",
       "    }\n",
       "\n",
       "    .dataframe thead th {\n",
       "        text-align: right;\n",
       "    }\n",
       "</style>\n",
       "<table border=\"1\" class=\"dataframe\">\n",
       "  <thead>\n",
       "    <tr style=\"text-align: right;\">\n",
       "      <th></th>\n",
       "      <th>content_id</th>\n",
       "      <th>category</th>\n",
       "      <th>headline</th>\n",
       "      <th>authors</th>\n",
       "      <th>link</th>\n",
       "      <th>short_description</th>\n",
       "      <th>date</th>\n",
       "      <th>Length_headline</th>\n",
       "      <th>Length_authors</th>\n",
       "      <th>Length_link</th>\n",
       "      <th>Length_short_description</th>\n",
       "      <th>headlineCleaned</th>\n",
       "      <th>authorsCleaned</th>\n",
       "      <th>linkCleaned</th>\n",
       "      <th>short_descriptionCleaned</th>\n",
       "    </tr>\n",
       "  </thead>\n",
       "  <tbody>\n",
       "    <tr>\n",
       "      <th>0</th>\n",
       "      <td>1</td>\n",
       "      <td>CRIME</td>\n",
       "      <td>There Were 2 Mass Shootings In Texas Last Week...</td>\n",
       "      <td>Melissa Jeltsen</td>\n",
       "      <td>https://www.huffingtonpost.com/entry/texas-ama...</td>\n",
       "      <td>She left her husband. He killed their children...</td>\n",
       "      <td>2018-05-26</td>\n",
       "      <td>64</td>\n",
       "      <td>15</td>\n",
       "      <td>99</td>\n",
       "      <td>76</td>\n",
       "      <td>mass shoot texas last week tv</td>\n",
       "      <td>melissa jeltsen</td>\n",
       "      <td></td>\n",
       "      <td>leave husband kill children another day america</td>\n",
       "    </tr>\n",
       "    <tr>\n",
       "      <th>1</th>\n",
       "      <td>2</td>\n",
       "      <td>ENTERTAINMENT</td>\n",
       "      <td>Will Smith Joins Diplo And Nicky Jam For The 2...</td>\n",
       "      <td>Andy McDonald</td>\n",
       "      <td>https://www.huffingtonpost.com/entry/will-smit...</td>\n",
       "      <td>Of course it has a song.</td>\n",
       "      <td>2018-05-26</td>\n",
       "      <td>75</td>\n",
       "      <td>13</td>\n",
       "      <td>138</td>\n",
       "      <td>24</td>\n",
       "      <td>smith join diplo nicky jam world cup official ...</td>\n",
       "      <td>andy mcdonald</td>\n",
       "      <td></td>\n",
       "      <td>course song</td>\n",
       "    </tr>\n",
       "    <tr>\n",
       "      <th>2</th>\n",
       "      <td>3</td>\n",
       "      <td>ENTERTAINMENT</td>\n",
       "      <td>Hugh Grant Marries For The First Time At Age 57</td>\n",
       "      <td>Ron Dicker</td>\n",
       "      <td>https://www.huffingtonpost.com/entry/hugh-gran...</td>\n",
       "      <td>The actor and his longtime girlfriend Anna Ebe...</td>\n",
       "      <td>2018-05-26</td>\n",
       "      <td>47</td>\n",
       "      <td>10</td>\n",
       "      <td>83</td>\n",
       "      <td>87</td>\n",
       "      <td>hugh grant marry first time age</td>\n",
       "      <td>ron dicker</td>\n",
       "      <td></td>\n",
       "      <td>actor longtime girlfriend anna eberstein tie k...</td>\n",
       "    </tr>\n",
       "  </tbody>\n",
       "</table>\n",
       "</div>"
      ],
      "text/plain": [
       "   content_id       category  \\\n",
       "0           1          CRIME   \n",
       "1           2  ENTERTAINMENT   \n",
       "2           3  ENTERTAINMENT   \n",
       "\n",
       "                                            headline          authors  \\\n",
       "0  There Were 2 Mass Shootings In Texas Last Week...  Melissa Jeltsen   \n",
       "1  Will Smith Joins Diplo And Nicky Jam For The 2...    Andy McDonald   \n",
       "2    Hugh Grant Marries For The First Time At Age 57       Ron Dicker   \n",
       "\n",
       "                                                link  \\\n",
       "0  https://www.huffingtonpost.com/entry/texas-ama...   \n",
       "1  https://www.huffingtonpost.com/entry/will-smit...   \n",
       "2  https://www.huffingtonpost.com/entry/hugh-gran...   \n",
       "\n",
       "                                   short_description       date  \\\n",
       "0  She left her husband. He killed their children... 2018-05-26   \n",
       "1                           Of course it has a song. 2018-05-26   \n",
       "2  The actor and his longtime girlfriend Anna Ebe... 2018-05-26   \n",
       "\n",
       "   Length_headline  Length_authors  Length_link  Length_short_description  \\\n",
       "0               64              15           99                        76   \n",
       "1               75              13          138                        24   \n",
       "2               47              10           83                        87   \n",
       "\n",
       "                                     headlineCleaned   authorsCleaned  \\\n",
       "0                      mass shoot texas last week tv  melissa jeltsen   \n",
       "1  smith join diplo nicky jam world cup official ...    andy mcdonald   \n",
       "2                    hugh grant marry first time age       ron dicker   \n",
       "\n",
       "  linkCleaned                           short_descriptionCleaned  \n",
       "0                leave husband kill children another day america  \n",
       "1                                                    course song  \n",
       "2              actor longtime girlfriend anna eberstein tie k...  "
      ]
     },
     "execution_count": 139,
     "metadata": {},
     "output_type": "execute_result"
    }
   ],
   "source": [
    "df_train_test.head(3)"
   ]
  },
  {
   "cell_type": "code",
   "execution_count": 140,
   "id": "7141f95d",
   "metadata": {
    "colab": {
     "base_uri": "https://localhost:8080/"
    },
    "id": "7141f95d",
    "outputId": "b71f1344-b491-4180-f5e2-18015238e699"
   },
   "outputs": [
    {
     "name": "stdout",
     "output_type": "stream",
     "text": [
      "Document 10:  Justin Timberlake Visits Texas School Shooting Victims\n",
      " \n",
      "Preprocessed Document 10:  justin timberlake visit texas school shoot victims\n"
     ]
    }
   ],
   "source": [
    "# See the difference before and after preprocessing\n",
    "\n",
    "print('Document 10: ' , df_train_test.headline[10])\n",
    "print(' ')\n",
    "print('Preprocessed Document 10: ' , df_train_test.headlineCleaned[10])"
   ]
  },
  {
   "cell_type": "markdown",
   "id": "ef3f9400",
   "metadata": {
    "id": "ef3f9400"
   },
   "source": [
    "## Splitting Betwen X and Y"
   ]
  },
  {
   "cell_type": "code",
   "execution_count": 141,
   "id": "2488d25d",
   "metadata": {
    "id": "2488d25d"
   },
   "outputs": [],
   "source": [
    "# Splitting X and y\n",
    "X = df_train_test[['headlineCleaned','authorsCleaned','short_descriptionCleaned']]\n",
    "y = df_train_test['category']"
   ]
  },
  {
   "cell_type": "markdown",
   "id": "3003c370",
   "metadata": {
    "id": "3003c370"
   },
   "source": [
    "## Splitting between Train Set, Validation Set, and Test Set"
   ]
  },
  {
   "cell_type": "code",
   "execution_count": 142,
   "id": "bb8c6dc8",
   "metadata": {
    "colab": {
     "base_uri": "https://localhost:8080/"
    },
    "id": "bb8c6dc8",
    "outputId": "c86d207f-5e1f-4bfb-b361-0384833f3991"
   },
   "outputs": [
    {
     "name": "stdout",
     "output_type": "stream",
     "text": [
      "Train Size :  (65, 3)\n",
      "Test Size :  (14, 3)\n",
      "Val Size :  (12, 3)\n"
     ]
    }
   ],
   "source": [
    "# split train-set, val-set, and test-set\n",
    "X_train_val, X_test, y_train_val, y_test = train_test_split (X, y, test_size=0.15, random_state=42)\n",
    "X_train, X_val, y_train, y_val = train_test_split (X_train_val, y_train_val, test_size=0.15, random_state=42)\n",
    "\n",
    "print('Train Size : ', X_train.shape)\n",
    "print('Test Size : ', X_test.shape)\n",
    "print('Val Size : ', X_val.shape)"
   ]
  },
  {
   "cell_type": "markdown",
   "id": "2a51ea6b",
   "metadata": {},
   "source": [
    "## Get Numerical Columns and Categorical Columns"
   ]
  },
  {
   "cell_type": "code",
   "execution_count": 143,
   "id": "f55a81b4",
   "metadata": {},
   "outputs": [
    {
     "name": "stdout",
     "output_type": "stream",
     "text": [
      "Numerical Columns :  []\n",
      "Categorical Columns :  ['headlineCleaned', 'authorsCleaned', 'short_descriptionCleaned']\n"
     ]
    }
   ],
   "source": [
    "# Get Numerical Columns and Categorical Columns\n",
    "\n",
    "num_columns = X_train.select_dtypes(include=np.number).columns.tolist()\n",
    "cat_columns = X_train.select_dtypes(include=['object']).columns.tolist()\n",
    "\n",
    "print('Numerical Columns : ', num_columns)\n",
    "print('Categorical Columns : ', cat_columns)"
   ]
  },
  {
   "cell_type": "markdown",
   "id": "a2bca42c",
   "metadata": {},
   "source": [
    "## Pipline"
   ]
  },
  {
   "cell_type": "code",
   "execution_count": 144,
   "id": "f527b225",
   "metadata": {},
   "outputs": [],
   "source": [
    "#divide num by skew and normal, cat by ordinal and none\n",
    "cat_ord = ['headlineCleaned','authorsCleaned','short_descriptionCleaned']"
   ]
  },
  {
   "cell_type": "code",
   "execution_count": 145,
   "id": "4cbaa7e5",
   "metadata": {},
   "outputs": [],
   "source": [
    "#persiapkan column transformer untuk membedakan proses per kolom\n",
    "preprocess = ColumnTransformer([\n",
    "    ('catord', OrdinalEncoder(handle_unknown='use_encoded_value', unknown_value=-1),cat_ord)\n",
    "  ])"
   ]
  },
  {
   "cell_type": "code",
   "execution_count": 146,
   "id": "a7659245",
   "metadata": {},
   "outputs": [
    {
     "data": {
      "text/plain": [
       "(65, 3)"
      ]
     },
     "execution_count": 146,
     "metadata": {},
     "output_type": "execute_result"
    }
   ],
   "source": [
    "\n",
    "# Fit and Transform\n",
    "\n",
    "X_train_pipline = preprocess.fit_transform(X_train)\n",
    "X_val_pipline = preprocess.transform(X_val)\n",
    "X_test_pipline = preprocess.transform(X_test)\n",
    "X_train_pipline.shape"
   ]
  },
  {
   "cell_type": "markdown",
   "id": "20fdb28f",
   "metadata": {
    "id": "20fdb28f"
   },
   "source": [
    "## Label Encoding"
   ]
  },
  {
   "cell_type": "code",
   "execution_count": 147,
   "id": "4036d136",
   "metadata": {
    "colab": {
     "base_uri": "https://localhost:8080/"
    },
    "id": "4036d136",
    "outputId": "f24b6673-47a7-4fc4-fa63-1e9db9dd0d02"
   },
   "outputs": [
    {
     "name": "stdout",
     "output_type": "stream",
     "text": [
      "['BLACK VOICES' 'BUSINESS' 'COMEDY' 'CRIME' 'ENTERTAINMENT' 'IMPACT'\n",
      " 'POLITICS' 'QUEER VOICES' 'SPORTS' 'WEIRD NEWS' 'WOMEN' 'WORLD NEWS']\n"
     ]
    }
   ],
   "source": [
    "# Encoding target\n",
    "\n",
    "le = LabelEncoder()\n",
    "y_train = le.fit_transform(y_train)\n",
    "y_val = le.transform(y_val)\n",
    "y_test = le.transform(y_test)\n",
    "\n",
    "print(le.classes_)"
   ]
  },
  {
   "cell_type": "code",
   "execution_count": 148,
   "id": "062eef8c",
   "metadata": {},
   "outputs": [],
   "source": [
    "# to dataframe\n",
    "y_train = pd.DataFrame(y_train, columns=['category'])\n",
    "y_test = pd.DataFrame(y_test, columns=['category'])\n",
    "y_val = pd.DataFrame(y_val, columns=['category'])"
   ]
  },
  {
   "cell_type": "code",
   "execution_count": 149,
   "id": "e5bcb776",
   "metadata": {},
   "outputs": [
    {
     "data": {
      "text/html": [
       "<div>\n",
       "<style scoped>\n",
       "    .dataframe tbody tr th:only-of-type {\n",
       "        vertical-align: middle;\n",
       "    }\n",
       "\n",
       "    .dataframe tbody tr th {\n",
       "        vertical-align: top;\n",
       "    }\n",
       "\n",
       "    .dataframe thead th {\n",
       "        text-align: right;\n",
       "    }\n",
       "</style>\n",
       "<table border=\"1\" class=\"dataframe\">\n",
       "  <thead>\n",
       "    <tr style=\"text-align: right;\">\n",
       "      <th></th>\n",
       "      <th>category</th>\n",
       "    </tr>\n",
       "  </thead>\n",
       "  <tbody>\n",
       "    <tr>\n",
       "      <th>0</th>\n",
       "      <td>4</td>\n",
       "    </tr>\n",
       "    <tr>\n",
       "      <th>1</th>\n",
       "      <td>3</td>\n",
       "    </tr>\n",
       "    <tr>\n",
       "      <th>2</th>\n",
       "      <td>6</td>\n",
       "    </tr>\n",
       "    <tr>\n",
       "      <th>3</th>\n",
       "      <td>5</td>\n",
       "    </tr>\n",
       "    <tr>\n",
       "      <th>4</th>\n",
       "      <td>4</td>\n",
       "    </tr>\n",
       "    <tr>\n",
       "      <th>5</th>\n",
       "      <td>4</td>\n",
       "    </tr>\n",
       "    <tr>\n",
       "      <th>6</th>\n",
       "      <td>11</td>\n",
       "    </tr>\n",
       "    <tr>\n",
       "      <th>7</th>\n",
       "      <td>6</td>\n",
       "    </tr>\n",
       "    <tr>\n",
       "      <th>8</th>\n",
       "      <td>6</td>\n",
       "    </tr>\n",
       "    <tr>\n",
       "      <th>9</th>\n",
       "      <td>4</td>\n",
       "    </tr>\n",
       "    <tr>\n",
       "      <th>10</th>\n",
       "      <td>11</td>\n",
       "    </tr>\n",
       "    <tr>\n",
       "      <th>11</th>\n",
       "      <td>6</td>\n",
       "    </tr>\n",
       "  </tbody>\n",
       "</table>\n",
       "</div>"
      ],
      "text/plain": [
       "    category\n",
       "0          4\n",
       "1          3\n",
       "2          6\n",
       "3          5\n",
       "4          4\n",
       "5          4\n",
       "6         11\n",
       "7          6\n",
       "8          6\n",
       "9          4\n",
       "10        11\n",
       "11         6"
      ]
     },
     "execution_count": 149,
     "metadata": {},
     "output_type": "execute_result"
    }
   ],
   "source": [
    "y_val"
   ]
  },
  {
   "cell_type": "markdown",
   "id": "13a80f01",
   "metadata": {},
   "source": [
    "## Tensor Pipline"
   ]
  },
  {
   "cell_type": "code",
   "execution_count": 150,
   "id": "48459d4b",
   "metadata": {},
   "outputs": [],
   "source": [
    "#train\n",
    "train_dataset=tf.data.Dataset.from_tensor_slices((X_train_pipline,y_train))\n",
    "#Shuffle and slice train dataset\n",
    "train_dataset=train_dataset.shuffle(buffer_size=100).batch(64)"
   ]
  },
  {
   "cell_type": "code",
   "execution_count": 151,
   "id": "51c415fe",
   "metadata": {},
   "outputs": [],
   "source": [
    "#val\n",
    "val_dataset=tf.data.Dataset.from_tensor_slices((X_val_pipline,y_val))\n",
    "#Shuffle and slice train dataset\n",
    "val_dataset=val_dataset.batch(64)"
   ]
  },
  {
   "cell_type": "code",
   "execution_count": 152,
   "id": "6d5179b3",
   "metadata": {},
   "outputs": [],
   "source": [
    "#tes\n",
    "tes_dataset=tf.data.Dataset.from_tensor_slices((X_test_pipline,y_test))\n",
    "#Shuffle and slice train dataset\n",
    "tes_dataset=tes_dataset.batch(64)"
   ]
  },
  {
   "cell_type": "markdown",
   "id": "a724aa5d",
   "metadata": {
    "id": "a724aa5d"
   },
   "source": [
    "## Model Definition"
   ]
  },
  {
   "cell_type": "code",
   "execution_count": 153,
   "id": "e7bdaf70",
   "metadata": {
    "colab": {
     "base_uri": "https://localhost:8080/"
    },
    "id": "e7bdaf70",
    "outputId": "53728dd8-a6fd-4479-de8d-99512d880254"
   },
   "outputs": [
    {
     "name": "stdout",
     "output_type": "stream",
     "text": [
      "Model: \"sequential_4\"\n",
      "_________________________________________________________________\n",
      " Layer (type)                Output Shape              Param #   \n",
      "=================================================================\n",
      " dense_12 (Dense)            (None, 32)                128       \n",
      "                                                                 \n",
      " dense_13 (Dense)            (None, 64)                2112      \n",
      "                                                                 \n",
      " batch_normalization_4 (Batc  (None, 64)               256       \n",
      " hNormalization)                                                 \n",
      "                                                                 \n",
      " activation_4 (Activation)   (None, 64)                0         \n",
      "                                                                 \n",
      " dense_14 (Dense)            (None, 128)               8320      \n",
      "                                                                 \n",
      " batch_normalization_5 (Batc  (None, 128)              512       \n",
      " hNormalization)                                                 \n",
      "                                                                 \n",
      " activation_5 (Activation)   (None, 128)               0         \n",
      "                                                                 \n",
      " dense_15 (Dense)            (None, 256)               33024     \n",
      "                                                                 \n",
      " batch_normalization_6 (Batc  (None, 256)              1024      \n",
      " hNormalization)                                                 \n",
      "                                                                 \n",
      " activation_6 (Activation)   (None, 256)               0         \n",
      "                                                                 \n",
      " dense_16 (Dense)            (None, 512)               131584    \n",
      "                                                                 \n",
      " batch_normalization_7 (Batc  (None, 512)              2048      \n",
      " hNormalization)                                                 \n",
      "                                                                 \n",
      " activation_7 (Activation)   (None, 512)               0         \n",
      "                                                                 \n",
      " dense_17 (Dense)            (None, 1)                 513       \n",
      "                                                                 \n",
      "=================================================================\n",
      "Total params: 179,521\n",
      "Trainable params: 177,601\n",
      "Non-trainable params: 1,920\n",
      "_________________________________________________________________\n"
     ]
    }
   ],
   "source": [
    "#improvement\n",
    "\n",
    "model_sequential1 = Sequential()\n",
    "model_sequential1.add(Dense(32,input_shape=(3,),kernel_initializer=tf.keras.initializers.GlorotNormal(seed=40)))#hidden1\n",
    "model_sequential1.add(tf.keras.layers.Dense(64))#hidden2\n",
    "model_sequential1.add(tf.keras.layers.BatchNormalization())#hidden3\n",
    "model_sequential1.add(tf.keras.layers.Activation('relu'))#hidden3\n",
    "\n",
    "model_sequential1.add(tf.keras.layers.Dense(128))#hidden4\n",
    "model_sequential1.add(tf.keras.layers.BatchNormalization())#hidden4\n",
    "model_sequential1.add(tf.keras.layers.Activation('relu'))#hidden4\n",
    "\n",
    "model_sequential1.add(tf.keras.layers.Dense(256))#hidden5\n",
    "model_sequential1.add(tf.keras.layers.BatchNormalization())#hidden5\n",
    "model_sequential1.add(tf.keras.layers.Activation('relu'))#hidden5\n",
    "\n",
    "model_sequential1.add(tf.keras.layers.Dense(512))#hidden6\n",
    "model_sequential1.add(tf.keras.layers.BatchNormalization())#hidden6\n",
    "model_sequential1.add(tf.keras.layers.Activation('relu'))#hidden6\n",
    "\n",
    "model_sequential1.add(tf.keras.layers.Dense(1, activation='softmax'))#output\n",
    "\n",
    "# Compile\n",
    "model_sequential1.compile(loss='binary_crossentropy',\n",
    "                         optimizer='adam',\n",
    "                         metrics=['accuracy'])\n",
    "\n",
    "model_sequential1.summary()"
   ]
  },
  {
   "cell_type": "code",
   "execution_count": 154,
   "id": "5b0dfafd",
   "metadata": {
    "colab": {
     "base_uri": "https://localhost:8080/",
     "height": 976
    },
    "id": "5b0dfafd",
    "outputId": "98e8bf06-575c-4b81-e2ac-0f8b0fdce4a6"
   },
   "outputs": [
    {
     "data": {
      "image/png": "[encoded data removed]",
      "text/plain": [
       "<IPython.core.display.Image object>"
      ]
     },
     "execution_count": 154,
     "metadata": {},
     "output_type": "execute_result"
    }
   ],
   "source": [
    "# plot layers\n",
    "\n",
    "tf.keras.utils.plot_model(model_sequential1, show_shapes=True)"
   ]
  },
  {
   "cell_type": "markdown",
   "id": "49f3fe13",
   "metadata": {
    "id": "49f3fe13"
   },
   "source": [
    "## Model Training"
   ]
  },
  {
   "cell_type": "code",
   "execution_count": 155,
   "id": "c5fc804a",
   "metadata": {
    "colab": {
     "base_uri": "https://localhost:8080/"
    },
    "id": "c5fc804a",
    "outputId": "04128e92-f4cb-42c0-b1f6-2b25c2d08ce6"
   },
   "outputs": [
    {
     "name": "stdout",
     "output_type": "stream",
     "text": [
      "Epoch 1/50\n",
      "2/2 [==============================] - 3s 362ms/step - loss: -1.6422 - accuracy: 0.0154 - val_loss: -1.0213 - val_accuracy: 0.0000e+00\n",
      "Epoch 2/50\n",
      "2/2 [==============================] - 0s 36ms/step - loss: -7.6026 - accuracy: 0.0154 - val_loss: -2.1137 - val_accuracy: 0.0000e+00\n",
      "Epoch 3/50\n",
      "2/2 [==============================] - 0s 25ms/step - loss: -11.8601 - accuracy: 0.0154 - val_loss: -3.0611 - val_accuracy: 0.0000e+00\n",
      "Epoch 4/50\n",
      "2/2 [==============================] - 0s 28ms/step - loss: -15.4941 - accuracy: 0.0154 - val_loss: -3.8782 - val_accuracy: 0.0000e+00\n",
      "Epoch 5/50\n",
      "2/2 [==============================] - 0s 30ms/step - loss: -18.5411 - accuracy: 0.0154 - val_loss: -4.7297 - val_accuracy: 0.0000e+00\n",
      "Epoch 6/50\n",
      "2/2 [==============================] - 0s 26ms/step - loss: -21.8824 - accuracy: 0.0154 - val_loss: -5.4537 - val_accuracy: 0.0000e+00\n",
      "Epoch 7/50\n",
      "2/2 [==============================] - 0s 26ms/step - loss: -24.5991 - accuracy: 0.0154 - val_loss: -6.1950 - val_accuracy: 0.0000e+00\n",
      "Epoch 8/50\n",
      "2/2 [==============================] - 0s 27ms/step - loss: -27.6490 - accuracy: 0.0154 - val_loss: -6.7883 - val_accuracy: 0.0000e+00\n",
      "Epoch 9/50\n",
      "2/2 [==============================] - 0s 26ms/step - loss: -30.4913 - accuracy: 0.0154 - val_loss: -7.2860 - val_accuracy: 0.0000e+00\n",
      "Epoch 10/50\n",
      "2/2 [==============================] - 0s 27ms/step - loss: -33.1439 - accuracy: 0.0154 - val_loss: -7.7130 - val_accuracy: 0.0000e+00\n",
      "Epoch 11/50\n",
      "2/2 [==============================] - 0s 26ms/step - loss: -36.3010 - accuracy: 0.0154 - val_loss: -8.1385 - val_accuracy: 0.0000e+00\n",
      "Epoch 12/50\n",
      "2/2 [==============================] - 0s 27ms/step - loss: -38.6961 - accuracy: 0.0154 - val_loss: -8.4170 - val_accuracy: 0.0000e+00\n",
      "Epoch 13/50\n",
      "2/2 [==============================] - 0s 26ms/step - loss: -41.5936 - accuracy: 0.0154 - val_loss: -8.7087 - val_accuracy: 0.0000e+00\n",
      "Epoch 14/50\n",
      "2/2 [==============================] - 0s 26ms/step - loss: -44.5526 - accuracy: 0.0154 - val_loss: -9.0788 - val_accuracy: 0.0000e+00\n",
      "Epoch 15/50\n",
      "2/2 [==============================] - 0s 27ms/step - loss: -46.8179 - accuracy: 0.0154 - val_loss: -9.7370 - val_accuracy: 0.0000e+00\n",
      "Epoch 16/50\n",
      "2/2 [==============================] - 0s 26ms/step - loss: -49.2963 - accuracy: 0.0154 - val_loss: -10.4244 - val_accuracy: 0.0000e+00\n",
      "Epoch 17/50\n",
      "2/2 [==============================] - 0s 27ms/step - loss: -52.4285 - accuracy: 0.0154 - val_loss: -10.9946 - val_accuracy: 0.0000e+00\n",
      "Epoch 18/50\n",
      "2/2 [==============================] - 0s 27ms/step - loss: -54.9159 - accuracy: 0.0154 - val_loss: -11.9010 - val_accuracy: 0.0000e+00\n",
      "Epoch 19/50\n",
      "2/2 [==============================] - 0s 28ms/step - loss: -58.0622 - accuracy: 0.0154 - val_loss: -12.0034 - val_accuracy: 0.0000e+00\n",
      "Epoch 20/50\n",
      "2/2 [==============================] - 0s 42ms/step - loss: -60.4425 - accuracy: 0.0154 - val_loss: -13.2629 - val_accuracy: 0.0000e+00\n",
      "Epoch 21/50\n",
      "2/2 [==============================] - 0s 24ms/step - loss: -63.3107 - accuracy: 0.0154 - val_loss: -14.1943 - val_accuracy: 0.0000e+00\n",
      "Epoch 22/50\n",
      "2/2 [==============================] - 0s 30ms/step - loss: -66.2849 - accuracy: 0.0154 - val_loss: -14.6175 - val_accuracy: 0.0000e+00\n",
      "Epoch 23/50\n",
      "2/2 [==============================] - 0s 27ms/step - loss: -68.8826 - accuracy: 0.0154 - val_loss: -16.1796 - val_accuracy: 0.0000e+00\n",
      "Epoch 24/50\n",
      "2/2 [==============================] - 0s 29ms/step - loss: -71.9319 - accuracy: 0.0154 - val_loss: -16.7325 - val_accuracy: 0.0000e+00\n",
      "Epoch 25/50\n",
      "2/2 [==============================] - 0s 28ms/step - loss: -74.6830 - accuracy: 0.0154 - val_loss: -17.0188 - val_accuracy: 0.0000e+00\n",
      "Epoch 26/50\n",
      "2/2 [==============================] - 0s 28ms/step - loss: -77.2145 - accuracy: 0.0154 - val_loss: -19.5584 - val_accuracy: 0.0000e+00\n",
      "Epoch 27/50\n",
      "2/2 [==============================] - 0s 30ms/step - loss: -80.3980 - accuracy: 0.0154 - val_loss: -18.7333 - val_accuracy: 0.0000e+00\n",
      "Epoch 28/50\n",
      "2/2 [==============================] - 0s 23ms/step - loss: -83.5118 - accuracy: 0.0154 - val_loss: -20.1265 - val_accuracy: 0.0000e+00\n",
      "Epoch 29/50\n",
      "2/2 [==============================] - 0s 27ms/step - loss: -86.1795 - accuracy: 0.0154 - val_loss: -21.1645 - val_accuracy: 0.0000e+00\n",
      "Epoch 30/50\n",
      "2/2 [==============================] - 0s 29ms/step - loss: -89.1551 - accuracy: 0.0154 - val_loss: -21.4885 - val_accuracy: 0.0000e+00\n",
      "Epoch 31/50\n",
      "2/2 [==============================] - 0s 56ms/step - loss: -92.8533 - accuracy: 0.0154 - val_loss: -23.1672 - val_accuracy: 0.0000e+00\n",
      "Epoch 32/50\n",
      "2/2 [==============================] - 0s 30ms/step - loss: -95.8608 - accuracy: 0.0154 - val_loss: -23.6606 - val_accuracy: 0.0000e+00\n",
      "Epoch 33/50\n",
      "2/2 [==============================] - 0s 28ms/step - loss: -97.0636 - accuracy: 0.0154 - val_loss: -26.8334 - val_accuracy: 0.0000e+00\n",
      "Epoch 34/50\n",
      "2/2 [==============================] - 0s 28ms/step - loss: -100.8815 - accuracy: 0.0154 - val_loss: -29.0483 - val_accuracy: 0.0000e+00\n",
      "Epoch 35/50\n",
      "2/2 [==============================] - 0s 26ms/step - loss: -105.3911 - accuracy: 0.0154 - val_loss: -27.8751 - val_accuracy: 0.0000e+00\n",
      "Epoch 36/50\n",
      "2/2 [==============================] - 0s 26ms/step - loss: -108.6036 - accuracy: 0.0154 - val_loss: -27.0319 - val_accuracy: 0.0000e+00\n",
      "Epoch 37/50\n",
      "2/2 [==============================] - 0s 20ms/step - loss: -111.9935 - accuracy: 0.0154 - val_loss: -32.6746 - val_accuracy: 0.0000e+00\n",
      "Epoch 38/50\n",
      "2/2 [==============================] - 0s 21ms/step - loss: -115.4018 - accuracy: 0.0154 - val_loss: -29.6875 - val_accuracy: 0.0000e+00\n",
      "Epoch 39/50\n",
      "2/2 [==============================] - 0s 20ms/step - loss: -115.1722 - accuracy: 0.0154 - val_loss: -32.2012 - val_accuracy: 0.0000e+00\n",
      "Epoch 40/50\n",
      "2/2 [==============================] - 0s 19ms/step - loss: -120.8816 - accuracy: 0.0154 - val_loss: -31.8235 - val_accuracy: 0.0000e+00\n",
      "Epoch 41/50\n",
      "2/2 [==============================] - 0s 19ms/step - loss: -124.7981 - accuracy: 0.0154 - val_loss: -36.3849 - val_accuracy: 0.0000e+00\n",
      "Epoch 42/50\n",
      "2/2 [==============================] - 0s 20ms/step - loss: -123.3486 - accuracy: 0.0154 - val_loss: -42.5638 - val_accuracy: 0.0000e+00\n",
      "Epoch 43/50\n",
      "2/2 [==============================] - 0s 19ms/step - loss: -130.0861 - accuracy: 0.0154 - val_loss: -31.0699 - val_accuracy: 0.0000e+00\n",
      "Epoch 44/50\n",
      "2/2 [==============================] - 0s 20ms/step - loss: -128.9625 - accuracy: 0.0154 - val_loss: -33.4675 - val_accuracy: 0.0000e+00\n",
      "Epoch 45/50\n",
      "2/2 [==============================] - 0s 20ms/step - loss: -138.3576 - accuracy: 0.0154 - val_loss: -45.1986 - val_accuracy: 0.0000e+00\n",
      "Epoch 46/50\n",
      "2/2 [==============================] - 0s 19ms/step - loss: -139.6194 - accuracy: 0.0154 - val_loss: -43.9043 - val_accuracy: 0.0000e+00\n",
      "Epoch 47/50\n",
      "2/2 [==============================] - 0s 19ms/step - loss: -144.9061 - accuracy: 0.0154 - val_loss: -41.9650 - val_accuracy: 0.0000e+00\n",
      "Epoch 48/50\n",
      "2/2 [==============================] - 0s 20ms/step - loss: -148.0052 - accuracy: 0.0154 - val_loss: -52.1216 - val_accuracy: 0.0000e+00\n",
      "Epoch 49/50\n",
      "2/2 [==============================] - 0s 19ms/step - loss: -151.8094 - accuracy: 0.0154 - val_loss: -64.6675 - val_accuracy: 0.0000e+00\n",
      "Epoch 50/50\n",
      "2/2 [==============================] - 0s 25ms/step - loss: -154.6439 - accuracy: 0.0154 - val_loss: -53.8512 - val_accuracy: 0.0000e+00\n"
     ]
    }
   ],
   "source": [
    "\n",
    "## Train the Model\n",
    "\n",
    "history = model_sequential1.fit(train_dataset, epochs=50, validation_data=val_dataset)"
   ]
  },
  {
   "cell_type": "markdown",
   "id": "b8b5343f",
   "metadata": {
    "id": "b8b5343f"
   },
   "source": [
    "## Model Evaluation"
   ]
  },
  {
   "cell_type": "code",
   "execution_count": 156,
   "id": "8a67a16d",
   "metadata": {
    "colab": {
     "base_uri": "https://localhost:8080/",
     "height": 285
    },
    "id": "8a67a16d",
    "outputId": "4ccfc019-9643-4eb4-9abe-b50e4db0ade6"
   },
   "outputs": [
    {
     "data": {
      "text/plain": [
       "<AxesSubplot:>"
      ]
     },
     "execution_count": 156,
     "metadata": {},
     "output_type": "execute_result"
    },
    {
     "data": {
      "image/png": "[encoded data removed]",
      "text/plain": [
       "<Figure size 432x288 with 1 Axes>"
      ]
     },
     "metadata": {
      "needs_background": "light"
     },
     "output_type": "display_data"
    }
   ],
   "source": [
    "# Create Dataframe\n",
    "\n",
    "history_df = pd.DataFrame(history.history)\n",
    "\n",
    "# Plot between Accuracy and val_accuracy\n",
    "\n",
    "history_df[['accuracy', 'val_accuracy']].plot()"
   ]
  },
  {
   "cell_type": "code",
   "execution_count": 157,
   "id": "3b98e31c",
   "metadata": {
    "colab": {
     "base_uri": "https://localhost:8080/",
     "height": 283
    },
    "id": "3b98e31c",
    "outputId": "078ff837-68e4-4643-8d07-615a4eda4104"
   },
   "outputs": [
    {
     "data": {
      "text/plain": [
       "<AxesSubplot:>"
      ]
     },
     "execution_count": 157,
     "metadata": {},
     "output_type": "execute_result"
    },
    {
     "data": {
      "image/png": "[encoded data removed]",
      "text/plain": [
       "<Figure size 432x288 with 1 Axes>"
      ]
     },
     "metadata": {
      "needs_background": "light"
     },
     "output_type": "display_data"
    }
   ],
   "source": [
    "# Plot between loss and val_loss\n",
    "\n",
    "history_df[['loss', 'val_loss']].plot()"
   ]
  },
  {
   "cell_type": "code",
   "execution_count": 158,
   "id": "535429d2",
   "metadata": {
    "colab": {
     "base_uri": "https://localhost:8080/"
    },
    "id": "535429d2",
    "outputId": "02775479-ea2f-4591-ebc0-f9beeca2a818"
   },
   "outputs": [
    {
     "name": "stdout",
     "output_type": "stream",
     "text": [
      "1/1 [==============================] - 0s 218ms/step\n",
      "              precision    recall  f1-score   support\n",
      "\n",
      "           0       0.00      0.00      0.00       1.0\n",
      "           1       0.00      0.00      0.00       0.0\n",
      "           2       0.00      0.00      0.00       1.0\n",
      "           3       0.00      0.00      0.00       1.0\n",
      "           4       0.00      0.00      0.00       4.0\n",
      "           6       0.00      0.00      0.00       3.0\n",
      "           9       0.00      0.00      0.00       1.0\n",
      "          10       0.00      0.00      0.00       1.0\n",
      "          11       0.00      0.00      0.00       2.0\n",
      "\n",
      "    accuracy                           0.00      14.0\n",
      "   macro avg       0.00      0.00      0.00      14.0\n",
      "weighted avg       0.00      0.00      0.00      14.0\n",
      "\n"
     ]
    }
   ],
   "source": [
    "# Model Evaluation using Classification Report\n",
    "\n",
    "from sklearn.metrics import classification_report  \n",
    "\n",
    "y_pred = model_sequential1.predict(X_test_pipline)\n",
    "y_pred= np.where(y_pred >= 0.5, 1, 0)\n",
    "y_pred\n",
    "\n",
    "print(classification_report(y_test, y_pred))"
   ]
  },
  {
   "cell_type": "markdown",
   "id": "9313761b",
   "metadata": {
    "id": "9313761b"
   },
   "source": [
    "## Model Inference"
   ]
  },
  {
   "cell_type": "code",
   "execution_count": 159,
   "id": "2bb5be26",
   "metadata": {
    "id": "2bb5be26"
   },
   "outputs": [],
   "source": [
    "# Preprocessing inference\n",
    "df_inf1['headlineCleaned'] = df_inf1['headline'].apply(lambda x: clean_rev(x))\n",
    "df_inf1['authorsCleaned'] = df_inf1['authors'].apply(lambda x: clean_rev(x))\n",
    "df_inf1['linkCleaned'] = df_inf1['link'].apply(lambda x: clean_rev(x))\n",
    "df_inf1['short_descriptionCleaned'] = df_inf1['short_description'].apply(lambda x: clean_rev(x))"
   ]
  },
  {
   "cell_type": "code",
   "execution_count": 160,
   "id": "09d8b1d2",
   "metadata": {
    "colab": {
     "base_uri": "https://localhost:8080/",
     "height": 1000
    },
    "id": "09d8b1d2",
    "outputId": "f1b9ecf6-cd8e-4b2d-f44b-cf08f48e8371",
    "scrolled": true
   },
   "outputs": [
    {
     "data": {
      "text/html": [
       "<div>\n",
       "<style scoped>\n",
       "    .dataframe tbody tr th:only-of-type {\n",
       "        vertical-align: middle;\n",
       "    }\n",
       "\n",
       "    .dataframe tbody tr th {\n",
       "        vertical-align: top;\n",
       "    }\n",
       "\n",
       "    .dataframe thead th {\n",
       "        text-align: right;\n",
       "    }\n",
       "</style>\n",
       "<table border=\"1\" class=\"dataframe\">\n",
       "  <thead>\n",
       "    <tr style=\"text-align: right;\">\n",
       "      <th></th>\n",
       "      <th>content_id</th>\n",
       "      <th>category</th>\n",
       "      <th>headline</th>\n",
       "      <th>authors</th>\n",
       "      <th>link</th>\n",
       "      <th>short_description</th>\n",
       "      <th>date</th>\n",
       "      <th>Length_headline</th>\n",
       "      <th>Length_authors</th>\n",
       "      <th>Length_link</th>\n",
       "      <th>Length_short_description</th>\n",
       "      <th>headlineCleaned</th>\n",
       "      <th>authorsCleaned</th>\n",
       "      <th>linkCleaned</th>\n",
       "      <th>short_descriptionCleaned</th>\n",
       "    </tr>\n",
       "  </thead>\n",
       "  <tbody>\n",
       "    <tr>\n",
       "      <th>0</th>\n",
       "      <td>38</td>\n",
       "      <td>COMEDY</td>\n",
       "      <td>Trump's New 'MAGA'-Themed Swimwear Sinks On Tw...</td>\n",
       "      <td>Ed Mazza</td>\n",
       "      <td>https://www.huffingtonpost.com/entry/trump-mag...</td>\n",
       "      <td>\"Does this swimsuit make me look racist?\"</td>\n",
       "      <td>2018-05-25</td>\n",
       "      <td>51</td>\n",
       "      <td>8</td>\n",
       "      <td>85</td>\n",
       "      <td>41</td>\n",
       "      <td>trump new magathemed swimwear sink twitter</td>\n",
       "      <td>ed mazza</td>\n",
       "      <td></td>\n",
       "      <td>swimsuit make look racist</td>\n",
       "    </tr>\n",
       "    <tr>\n",
       "      <th>1</th>\n",
       "      <td>27</td>\n",
       "      <td>WORLD NEWS</td>\n",
       "      <td>Irish Voters Set To Liberalize Abortion Laws I...</td>\n",
       "      <td></td>\n",
       "      <td>https://www.huffingtonpost.com/entry/ireland-a...</td>\n",
       "      <td>Vote counting will begin Saturday.</td>\n",
       "      <td>2018-05-25</td>\n",
       "      <td>76</td>\n",
       "      <td>0</td>\n",
       "      <td>96</td>\n",
       "      <td>34</td>\n",
       "      <td>irish voters set liberalize abortion laws land...</td>\n",
       "      <td></td>\n",
       "      <td></td>\n",
       "      <td>vote count begin saturday</td>\n",
       "    </tr>\n",
       "    <tr>\n",
       "      <th>2</th>\n",
       "      <td>79</td>\n",
       "      <td>COMEDY</td>\n",
       "      <td>'Late Night' Writer's Breathless Royal Wedding...</td>\n",
       "      <td>Lee Moran</td>\n",
       "      <td>https://www.huffingtonpost.com/entry/royal-wed...</td>\n",
       "      <td>“Then he bites his lip, like, ‘Hmm, girl.’”</td>\n",
       "      <td>2018-05-24</td>\n",
       "      <td>77</td>\n",
       "      <td>9</td>\n",
       "      <td>114</td>\n",
       "      <td>43</td>\n",
       "      <td>late night writers breathless royal wed recap ...</td>\n",
       "      <td>lee moran</td>\n",
       "      <td></td>\n",
       "      <td>bite lip like hmm girl</td>\n",
       "    </tr>\n",
       "    <tr>\n",
       "      <th>3</th>\n",
       "      <td>95</td>\n",
       "      <td>POLITICS</td>\n",
       "      <td>Ireland's Historic Vote On Legalizing Abortion...</td>\n",
       "      <td>Laura Bassett</td>\n",
       "      <td>https://www.huffingtonpost.com/entry/irelands-...</td>\n",
       "      <td>American influence could tip the referendum.</td>\n",
       "      <td>2018-05-24</td>\n",
       "      <td>77</td>\n",
       "      <td>13</td>\n",
       "      <td>117</td>\n",
       "      <td>44</td>\n",
       "      <td>irelands historic vote legalize abortion haunt...</td>\n",
       "      <td>laura bassett</td>\n",
       "      <td></td>\n",
       "      <td>american influence could tip referendum</td>\n",
       "    </tr>\n",
       "    <tr>\n",
       "      <th>4</th>\n",
       "      <td>50</td>\n",
       "      <td>ENTERTAINMENT</td>\n",
       "      <td>Pete Davidson Says His Mental Illness Doesn't ...</td>\n",
       "      <td>Ron Dicker</td>\n",
       "      <td>https://www.huffingtonpost.com/entry/pete-davi...</td>\n",
       "      <td>The \"SNL\" star reacted to criticism that he sh...</td>\n",
       "      <td>2018-05-25</td>\n",
       "      <td>58</td>\n",
       "      <td>10</td>\n",
       "      <td>100</td>\n",
       "      <td>120</td>\n",
       "      <td>pete davidson say mental illness not ruin romance</td>\n",
       "      <td>ron dicker</td>\n",
       "      <td></td>\n",
       "      <td>snl star react criticism not date ariana grand...</td>\n",
       "    </tr>\n",
       "    <tr>\n",
       "      <th>5</th>\n",
       "      <td>16</td>\n",
       "      <td>POLITICS</td>\n",
       "      <td>Edward Snowden: There's No One Trump Loves Mor...</td>\n",
       "      <td>Mary Papenfuss</td>\n",
       "      <td>https://www.huffingtonpost.com/entry/edward-sn...</td>\n",
       "      <td>But don't count on Robert Mueller to nail him,...</td>\n",
       "      <td>2018-05-26</td>\n",
       "      <td>67</td>\n",
       "      <td>14</td>\n",
       "      <td>97</td>\n",
       "      <td>75</td>\n",
       "      <td>edward snowden one trump love vladimir putin</td>\n",
       "      <td>mary papenfuss</td>\n",
       "      <td></td>\n",
       "      <td>not count robert mueller nail nsa whistleblowe...</td>\n",
       "    </tr>\n",
       "    <tr>\n",
       "      <th>6</th>\n",
       "      <td>94</td>\n",
       "      <td>POLITICS</td>\n",
       "      <td>Immigrant Children Accuse Border Patrol Of Abu...</td>\n",
       "      <td>Willa Frej</td>\n",
       "      <td>https://www.huffingtonpost.com/entry/immigrant...</td>\n",
       "      <td>One 16-year-old filed a complaint alleging tha...</td>\n",
       "      <td>2018-05-24</td>\n",
       "      <td>74</td>\n",
       "      <td>10</td>\n",
       "      <td>103</td>\n",
       "      <td>138</td>\n",
       "      <td>immigrant children accuse border patrol abuse ...</td>\n",
       "      <td>willa frej</td>\n",
       "      <td></td>\n",
       "      <td>one file complaint allege border patrol agent ...</td>\n",
       "    </tr>\n",
       "    <tr>\n",
       "      <th>7</th>\n",
       "      <td>72</td>\n",
       "      <td>QUEER VOICES</td>\n",
       "      <td>How 'RuPaul’s Drag Race' Is Teaching Straight ...</td>\n",
       "      <td>INTO, Editorial Partner</td>\n",
       "      <td>https://www.huffingtonpost.com/entry/how-rupau...</td>\n",
       "      <td>Mainstream pop culture isn’t the only thing to...</td>\n",
       "      <td>2018-05-25</td>\n",
       "      <td>72</td>\n",
       "      <td>23</td>\n",
       "      <td>114</td>\n",
       "      <td>104</td>\n",
       "      <td>rupauls drag race teach straight people queer ...</td>\n",
       "      <td>editorial partner</td>\n",
       "      <td></td>\n",
       "      <td>mainstream pop culture not thing potentially b...</td>\n",
       "    </tr>\n",
       "    <tr>\n",
       "      <th>8</th>\n",
       "      <td>87</td>\n",
       "      <td>COMEDY</td>\n",
       "      <td>Seth Meyers Gives Donald Trump Some Valuable M...</td>\n",
       "      <td>Lee Moran</td>\n",
       "      <td>https://www.huffingtonpost.com/entry/seth-meye...</td>\n",
       "      <td>“Stop trying to make ‘Fetch’ happen.\"</td>\n",
       "      <td>2018-05-24</td>\n",
       "      <td>61</td>\n",
       "      <td>9</td>\n",
       "      <td>104</td>\n",
       "      <td>37</td>\n",
       "      <td>seth meyers give donald trump valuable market ...</td>\n",
       "      <td>lee moran</td>\n",
       "      <td></td>\n",
       "      <td>stop try make fetch happen</td>\n",
       "    </tr>\n",
       "    <tr>\n",
       "      <th>9</th>\n",
       "      <td>23</td>\n",
       "      <td>WEIRD NEWS</td>\n",
       "      <td>Mystery 'Wolf-Like' Animal Reportedly Shot In ...</td>\n",
       "      <td>Hilary Hanson</td>\n",
       "      <td>https://www.huffingtonpost.com/entry/montana-w...</td>\n",
       "      <td>“We have no idea what this was until we get a ...</td>\n",
       "      <td>2018-05-26</td>\n",
       "      <td>81</td>\n",
       "      <td>13</td>\n",
       "      <td>97</td>\n",
       "      <td>63</td>\n",
       "      <td>mystery wolflike animal reportedly shoot monta...</td>\n",
       "      <td>hilary hanson</td>\n",
       "      <td></td>\n",
       "      <td>idea get dna report back</td>\n",
       "    </tr>\n",
       "  </tbody>\n",
       "</table>\n",
       "</div>"
      ],
      "text/plain": [
       "   content_id       category  \\\n",
       "0          38         COMEDY   \n",
       "1          27     WORLD NEWS   \n",
       "2          79         COMEDY   \n",
       "3          95       POLITICS   \n",
       "4          50  ENTERTAINMENT   \n",
       "5          16       POLITICS   \n",
       "6          94       POLITICS   \n",
       "7          72   QUEER VOICES   \n",
       "8          87         COMEDY   \n",
       "9          23     WEIRD NEWS   \n",
       "\n",
       "                                            headline                  authors  \\\n",
       "0  Trump's New 'MAGA'-Themed Swimwear Sinks On Tw...                 Ed Mazza   \n",
       "1  Irish Voters Set To Liberalize Abortion Laws I...                            \n",
       "2  'Late Night' Writer's Breathless Royal Wedding...                Lee Moran   \n",
       "3  Ireland's Historic Vote On Legalizing Abortion...            Laura Bassett   \n",
       "4  Pete Davidson Says His Mental Illness Doesn't ...               Ron Dicker   \n",
       "5  Edward Snowden: There's No One Trump Loves Mor...           Mary Papenfuss   \n",
       "6  Immigrant Children Accuse Border Patrol Of Abu...               Willa Frej   \n",
       "7  How 'RuPaul’s Drag Race' Is Teaching Straight ...  INTO, Editorial Partner   \n",
       "8  Seth Meyers Gives Donald Trump Some Valuable M...                Lee Moran   \n",
       "9  Mystery 'Wolf-Like' Animal Reportedly Shot In ...            Hilary Hanson   \n",
       "\n",
       "                                                link  \\\n",
       "0  https://www.huffingtonpost.com/entry/trump-mag...   \n",
       "1  https://www.huffingtonpost.com/entry/ireland-a...   \n",
       "2  https://www.huffingtonpost.com/entry/royal-wed...   \n",
       "3  https://www.huffingtonpost.com/entry/irelands-...   \n",
       "4  https://www.huffingtonpost.com/entry/pete-davi...   \n",
       "5  https://www.huffingtonpost.com/entry/edward-sn...   \n",
       "6  https://www.huffingtonpost.com/entry/immigrant...   \n",
       "7  https://www.huffingtonpost.com/entry/how-rupau...   \n",
       "8  https://www.huffingtonpost.com/entry/seth-meye...   \n",
       "9  https://www.huffingtonpost.com/entry/montana-w...   \n",
       "\n",
       "                                   short_description       date  \\\n",
       "0          \"Does this swimsuit make me look racist?\" 2018-05-25   \n",
       "1                 Vote counting will begin Saturday. 2018-05-25   \n",
       "2        “Then he bites his lip, like, ‘Hmm, girl.’” 2018-05-24   \n",
       "3       American influence could tip the referendum. 2018-05-24   \n",
       "4  The \"SNL\" star reacted to criticism that he sh... 2018-05-25   \n",
       "5  But don't count on Robert Mueller to nail him,... 2018-05-26   \n",
       "6  One 16-year-old filed a complaint alleging tha... 2018-05-24   \n",
       "7  Mainstream pop culture isn’t the only thing to... 2018-05-25   \n",
       "8              “Stop trying to make ‘Fetch’ happen.\" 2018-05-24   \n",
       "9  “We have no idea what this was until we get a ... 2018-05-26   \n",
       "\n",
       "   Length_headline  Length_authors  Length_link  Length_short_description  \\\n",
       "0               51               8           85                        41   \n",
       "1               76               0           96                        34   \n",
       "2               77               9          114                        43   \n",
       "3               77              13          117                        44   \n",
       "4               58              10          100                       120   \n",
       "5               67              14           97                        75   \n",
       "6               74              10          103                       138   \n",
       "7               72              23          114                       104   \n",
       "8               61               9          104                        37   \n",
       "9               81              13           97                        63   \n",
       "\n",
       "                                     headlineCleaned     authorsCleaned  \\\n",
       "0         trump new magathemed swimwear sink twitter           ed mazza   \n",
       "1  irish voters set liberalize abortion laws land...                      \n",
       "2  late night writers breathless royal wed recap ...          lee moran   \n",
       "3  irelands historic vote legalize abortion haunt...      laura bassett   \n",
       "4  pete davidson say mental illness not ruin romance         ron dicker   \n",
       "5       edward snowden one trump love vladimir putin     mary papenfuss   \n",
       "6  immigrant children accuse border patrol abuse ...         willa frej   \n",
       "7  rupauls drag race teach straight people queer ...  editorial partner   \n",
       "8  seth meyers give donald trump valuable market ...          lee moran   \n",
       "9  mystery wolflike animal reportedly shoot monta...      hilary hanson   \n",
       "\n",
       "  linkCleaned                           short_descriptionCleaned  \n",
       "0                                      swimsuit make look racist  \n",
       "1                                      vote count begin saturday  \n",
       "2                                         bite lip like hmm girl  \n",
       "3                        american influence could tip referendum  \n",
       "4              snl star react criticism not date ariana grand...  \n",
       "5              not count robert mueller nail nsa whistleblowe...  \n",
       "6              one file complaint allege border patrol agent ...  \n",
       "7              mainstream pop culture not thing potentially b...  \n",
       "8                                     stop try make fetch happen  \n",
       "9                                       idea get dna report back  "
      ]
     },
     "execution_count": 160,
     "metadata": {},
     "output_type": "execute_result"
    }
   ],
   "source": [
    "df_inf1"
   ]
  },
  {
   "cell_type": "code",
   "execution_count": 164,
   "id": "e6baac2a",
   "metadata": {},
   "outputs": [],
   "source": [
    "#membuat mendefiniskan inference_pipline terhadap data inference sudah di panggil fungsi pipline\n",
    "inference_pipline= preprocess.transform(df_inf1)\n",
    "#inference_final = preprocess.fit_transform(df_inf1)"
   ]
  },
  {
   "cell_type": "code",
   "execution_count": 165,
   "id": "41f1c724",
   "metadata": {
    "colab": {
     "base_uri": "https://localhost:8080/"
    },
    "id": "41f1c724",
    "outputId": "3851ba09-a8e6-4b0d-d56d-1e6490775114",
    "scrolled": false
   },
   "outputs": [
    {
     "name": "stdout",
     "output_type": "stream",
     "text": [
      "1/1 [==============================] - 0s 29ms/step\n"
     ]
    }
   ],
   "source": [
    "#mendefinisikan variable yang berisi model\n",
    "y_pred_inf_seq =model_sequential1.predict(inference_pipline)"
   ]
  },
  {
   "cell_type": "code",
   "execution_count": 168,
   "id": "b387310e",
   "metadata": {},
   "outputs": [],
   "source": [
    "#memakai fungsi numpy agar target menjadi 0 dan 1\n",
    "y_pred_inf_seq=np.where(y_pred_inf_seq >= 0.5, 1, 0)"
   ]
  },
  {
   "cell_type": "code",
   "execution_count": 169,
   "id": "88bbf8b1",
   "metadata": {},
   "outputs": [],
   "source": [
    "#kembalikan ke bentuk semula menjadi yes dan no\n",
    "y_pred_inf_seq= le.inverse_transform(y_pred_inf_seq)"
   ]
  },
  {
   "cell_type": "code",
   "execution_count": 170,
   "id": "697b4b28",
   "metadata": {},
   "outputs": [
    {
     "data": {
      "text/plain": [
       "array(['BUSINESS', 'BUSINESS', 'BUSINESS', 'BUSINESS', 'BUSINESS',\n",
       "       'BUSINESS', 'BUSINESS', 'BUSINESS', 'BUSINESS', 'BUSINESS'],\n",
       "      dtype=object)"
      ]
     },
     "execution_count": 170,
     "metadata": {},
     "output_type": "execute_result"
    }
   ],
   "source": [
    "#cek apakah sudah berubah\n",
    "y_pred_inf_seq"
   ]
  },
  {
   "cell_type": "code",
   "execution_count": 171,
   "id": "6f480f37",
   "metadata": {},
   "outputs": [],
   "source": [
    "#rubah ke dataframe\n",
    "y_pred_inf_seq = pd.DataFrame(y_pred_inf_seq, columns=['sequential'])"
   ]
  },
  {
   "cell_type": "code",
   "execution_count": 172,
   "id": "bf640219",
   "metadata": {},
   "outputs": [
    {
     "data": {
      "text/html": [
       "<div>\n",
       "<style scoped>\n",
       "    .dataframe tbody tr th:only-of-type {\n",
       "        vertical-align: middle;\n",
       "    }\n",
       "\n",
       "    .dataframe tbody tr th {\n",
       "        vertical-align: top;\n",
       "    }\n",
       "\n",
       "    .dataframe thead th {\n",
       "        text-align: right;\n",
       "    }\n",
       "</style>\n",
       "<table border=\"1\" class=\"dataframe\">\n",
       "  <thead>\n",
       "    <tr style=\"text-align: right;\">\n",
       "      <th></th>\n",
       "      <th>Actual</th>\n",
       "      <th>prediction</th>\n",
       "    </tr>\n",
       "  </thead>\n",
       "  <tbody>\n",
       "    <tr>\n",
       "      <th>0</th>\n",
       "      <td>COMEDY</td>\n",
       "      <td>BUSINESS</td>\n",
       "    </tr>\n",
       "    <tr>\n",
       "      <th>1</th>\n",
       "      <td>WORLD NEWS</td>\n",
       "      <td>BUSINESS</td>\n",
       "    </tr>\n",
       "    <tr>\n",
       "      <th>2</th>\n",
       "      <td>COMEDY</td>\n",
       "      <td>BUSINESS</td>\n",
       "    </tr>\n",
       "    <tr>\n",
       "      <th>3</th>\n",
       "      <td>POLITICS</td>\n",
       "      <td>BUSINESS</td>\n",
       "    </tr>\n",
       "    <tr>\n",
       "      <th>4</th>\n",
       "      <td>ENTERTAINMENT</td>\n",
       "      <td>BUSINESS</td>\n",
       "    </tr>\n",
       "    <tr>\n",
       "      <th>5</th>\n",
       "      <td>POLITICS</td>\n",
       "      <td>BUSINESS</td>\n",
       "    </tr>\n",
       "    <tr>\n",
       "      <th>6</th>\n",
       "      <td>POLITICS</td>\n",
       "      <td>BUSINESS</td>\n",
       "    </tr>\n",
       "    <tr>\n",
       "      <th>7</th>\n",
       "      <td>QUEER VOICES</td>\n",
       "      <td>BUSINESS</td>\n",
       "    </tr>\n",
       "    <tr>\n",
       "      <th>8</th>\n",
       "      <td>COMEDY</td>\n",
       "      <td>BUSINESS</td>\n",
       "    </tr>\n",
       "    <tr>\n",
       "      <th>9</th>\n",
       "      <td>WEIRD NEWS</td>\n",
       "      <td>BUSINESS</td>\n",
       "    </tr>\n",
       "  </tbody>\n",
       "</table>\n",
       "</div>"
      ],
      "text/plain": [
       "          Actual prediction\n",
       "0         COMEDY   BUSINESS\n",
       "1     WORLD NEWS   BUSINESS\n",
       "2         COMEDY   BUSINESS\n",
       "3       POLITICS   BUSINESS\n",
       "4  ENTERTAINMENT   BUSINESS\n",
       "5       POLITICS   BUSINESS\n",
       "6       POLITICS   BUSINESS\n",
       "7   QUEER VOICES   BUSINESS\n",
       "8         COMEDY   BUSINESS\n",
       "9     WEIRD NEWS   BUSINESS"
      ]
     },
     "execution_count": 172,
     "metadata": {},
     "output_type": "execute_result"
    }
   ],
   "source": [
    "#Buat dataframe prediction\n",
    "predictions = pd.concat([df_inf1['category'], y_pred_inf_seq], axis=1)\n",
    "predictions.columns = ['Actual','prediction']\n",
    "predictions"
   ]
  },
  {
   "cell_type": "code",
   "execution_count": null,
   "id": "eca17871",
   "metadata": {
    "id": "eca17871"
   },
   "outputs": [],
   "source": [
    "# Transform back to the original category\n",
    "y_pred1= le.inverse_transform(y_pred)"
   ]
  },
  {
   "cell_type": "code",
   "execution_count": null,
   "id": "db1d9c4d",
   "metadata": {
    "colab": {
     "base_uri": "https://localhost:8080/"
    },
    "id": "db1d9c4d",
    "outputId": "74293b46-8663-49fe-cffe-889d456d7fea"
   },
   "outputs": [],
   "source": [
    "y_pred1"
   ]
  },
  {
   "cell_type": "code",
   "execution_count": null,
   "id": "803ba505",
   "metadata": {
    "colab": {
     "base_uri": "https://localhost:8080/",
     "height": 363
    },
    "id": "803ba505",
    "outputId": "9cc74614-f6a4-4725-f213-fe61a65a0b07"
   },
   "outputs": [],
   "source": [
    "#change to data frame\n",
    "y_pred1 = pd.DataFrame(y_pred1, columns=['predict'])\n",
    "y_pred1"
   ]
  },
  {
   "cell_type": "code",
   "execution_count": null,
   "id": "f1f10d08",
   "metadata": {
    "colab": {
     "base_uri": "https://localhost:8080/"
    },
    "id": "f1f10d08",
    "outputId": "b42445b5-86ac-492e-cffd-7d5ac9fc1297"
   },
   "outputs": [],
   "source": [
    "#check original data inference\n",
    "df_inf1['category']"
   ]
  },
  {
   "cell_type": "code",
   "execution_count": null,
   "id": "b34f8680",
   "metadata": {
    "colab": {
     "base_uri": "https://localhost:8080/",
     "height": 363
    },
    "id": "b34f8680",
    "outputId": "36db40bc-d009-407e-c0df-6b3b8acc53da"
   },
   "outputs": [],
   "source": [
    "#Create dataframe predictions\n",
    "predictions = pd.concat([df_inf1['category'], y_pred1], axis=1)\n",
    "predictions.columns = ['Actual','predict']\n",
    "predictions"
   ]
  }
 ],
 "metadata": {
  "colab": {
   "provenance": [],
   "toc_visible": true
  },
  "kernelspec": {
   "display_name": "Python 3 (ipykernel)",
   "language": "python",
   "name": "python3"
  },
  "language_info": {
   "codemirror_mode": {
    "name": "ipython",
    "version": 3
   },
   "file_extension": ".py",
   "mimetype": "text/x-python",
   "name": "python",
   "nbconvert_exporter": "python",
   "pygments_lexer": "ipython3",
   "version": "3.9.12"
  }
 },
 "nbformat": 4,
 "nbformat_minor": 5
}
